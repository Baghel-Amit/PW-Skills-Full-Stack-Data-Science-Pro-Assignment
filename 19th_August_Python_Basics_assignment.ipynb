{
 "cells": [
  {
   "cell_type": "markdown",
   "id": "deaa4680-cfc4-4ad4-afff-887cdb454d2a",
   "metadata": {},
   "source": [
    "TOPIC: PYTHON BASICS VERIABLE"
   ]
  },
  {
   "cell_type": "markdown",
   "id": "acd5521e-9d3f-4139-94a1-011bee821245",
   "metadata": {},
   "source": [
    "Q1. Declare two variables, 'X' and 'Y', and assign them integer values. Swap the values of these variables without using any temporary variable."
   ]
  },
  {
   "cell_type": "code",
   "execution_count": null,
   "id": "d02f88a4-348b-493c-95f9-dc0f75550554",
   "metadata": {},
   "outputs": [
    {
     "name": "stdout",
     "output_type": "stream",
     "text": [
      "Before swapping values are: (5, 10)\n",
      "After swapping values are: (10, 5)\n"
     ]
    }
   ],
   "source": [
    "# inicially assume values are as:\n",
    "x = 5\n",
    "y = 10\n",
    "print(\"Before swapping values are:\",(x,y))\n",
    "\n",
    "# swapping\n",
    "x = x+y\n",
    "y = x-y\n",
    "x = x-y\n",
    "\n",
    "print(\"After swapping values are:\",(x,y))\n"
   ]
  },
  {
   "cell_type": "markdown",
   "id": "c77affd9-5614-4e3b-8b6b-9e6dd427f0f2",
   "metadata": {},
   "source": [
    "Q2. Create a program that calculates the area of a rectangle. Take the length and width as inputs from the user and store them in variables. Calculate and display the area.\n"
   ]
  },
  {
   "cell_type": "code",
   "execution_count": null,
   "id": "5e4cd511-c6f2-4137-a1f7-03f0c2a2cba2",
   "metadata": {},
   "outputs": [
    {
     "name": "stdin",
     "output_type": "stream",
     "text": [
      "Enter the lenth of rectangle 10\n",
      "Enter the width of rectangle 20\n"
     ]
    },
    {
     "name": "stdout",
     "output_type": "stream",
     "text": [
      "Area of rectangle is 200.0\n"
     ]
    }
   ],
   "source": [
    "Lenth = float(input(\"Enter the lenth of rectangle\"))\n",
    "Width = float(input(\"Enter the width of rectangle\"))\n",
    "\n",
    "print(\"Area of rectangle is\", Lenth*Width)\n"
   ]
  },
  {
   "cell_type": "markdown",
   "id": "a0e54159-74ca-4938-8bb8-0d6df0c457ce",
   "metadata": {},
   "source": [
    "Q3. Write a Python program that converts temperatures from Celsius to Fahrenheit. Take the temperature in Celsius as input, store it in a variable, convert it to Fahrenheit, and display the result.\n"
   ]
  },
  {
   "cell_type": "code",
   "execution_count": 5,
   "id": "6f93fd13-785c-42e2-980c-8a1a3a93899c",
   "metadata": {},
   "outputs": [
    {
     "name": "stdin",
     "output_type": "stream",
     "text": [
      "Enter the celsius temperature 5\n"
     ]
    },
    {
     "name": "stdout",
     "output_type": "stream",
     "text": [
      "Fahrenheit temperature is: 41.0\n",
      "5.0 celsius is equal to 41.0 Fahrenheit\n"
     ]
    }
   ],
   "source": [
    "Celsius_temp = float(input(\"Enter the celsius temperature\"))\n",
    "#conversion formula...\n",
    "Fahrenheit_temp = 9/5* Celsius_temp + 32  \n",
    "\n",
    "print(\"Fahrenheit temperature is:\",Fahrenheit_temp )\n",
    "print(f\"{Celsius_temp} celsius is equal to {Fahrenheit_temp} Fahrenheit\")\n"
   ]
  },
  {
   "cell_type": "markdown",
   "id": "9a3e3167-0bd6-44f5-a873-028ea6fa52d3",
   "metadata": {},
   "source": []
  },
  {
   "cell_type": "markdown",
   "id": "b7794ad8-b52c-4cb5-b816-7207a7e5c69b",
   "metadata": {},
   "source": [
    "TOPIC: STRING BASED QUESTIONS"
   ]
  },
  {
   "cell_type": "markdown",
   "id": "3af9b8bd-b2af-43d6-9dce-36aa4945dc66",
   "metadata": {},
   "source": [
    "Q1. Write a Python program that takes a string as input and prints the length of the string.\n"
   ]
  },
  {
   "cell_type": "code",
   "execution_count": 1,
   "id": "8ced977e-0df5-42c8-b0f4-682a19274ef2",
   "metadata": {},
   "outputs": [
    {
     "name": "stdin",
     "output_type": "stream",
     "text": [
      "Enter the Character/Number: Amit Kumar\n"
     ]
    },
    {
     "name": "stdout",
     "output_type": "stream",
     "text": [
      "length of the string is: 10\n"
     ]
    }
   ],
   "source": [
    "Len_str = str(input(\"Enter the Character/Number:\"))\n",
    "x = len(Len_str)             \n",
    "print(\"length of the string is:\",x)"
   ]
  },
  {
   "cell_type": "markdown",
   "id": "729e8993-634c-432d-94a7-c9221f611bbe",
   "metadata": {},
   "source": [
    "Q2. Create a program that takes a sentence from the user and counts the number of vowels (a, e, i, o, u) in the string.\n"
   ]
  },
  {
   "cell_type": "code",
   "execution_count": 1,
   "id": "a1428deb-34db-4e5b-a047-b78289a2857a",
   "metadata": {},
   "outputs": [
    {
     "name": "stdin",
     "output_type": "stream",
     "text": [
      "Enter the sentence: hello world, this is Amit Kumar\n"
     ]
    },
    {
     "name": "stdout",
     "output_type": "stream",
     "text": [
      "number of vowels: 9\n"
     ]
    }
   ],
   "source": [
    "sentence = str(input(\"Enter the sentence:\"))\n",
    "vowels = \"aeiouAEIOU\"\n",
    "\n",
    "count_vowel = sum(sentence.count(vowel) for vowel in vowels)\n",
    "\n",
    "print(\"number of vowels:\",count_vowel)"
   ]
  },
  {
   "cell_type": "markdown",
   "id": "2a8555fb-c7b1-49e9-9083-7290cc2cc655",
   "metadata": {},
   "source": [
    "Q3. Given a string, reverse the order of characters using string slicing and print the reversed string."
   ]
  },
  {
   "cell_type": "code",
   "execution_count": 2,
   "id": "0fa9ae5d-8659-494b-93c7-da43e93f34ad",
   "metadata": {},
   "outputs": [
    {
     "name": "stdin",
     "output_type": "stream",
     "text": [
      "Enter the character HELLO WORLD\n"
     ]
    },
    {
     "name": "stdout",
     "output_type": "stream",
     "text": [
      "DLROW OLLEH\n"
     ]
    }
   ],
   "source": [
    "char = input(\"Enter the character\")\n",
    "reverse_char = char[::-1]\n",
    "print(reverse_char)"
   ]
  },
  {
   "cell_type": "markdown",
   "id": "07354028-aed8-4933-a933-d7b80326258e",
   "metadata": {},
   "source": [
    "Q4. Write a program that takes a string as input and checks if it is a palindrome (reads the same forwards and backwards).\n"
   ]
  },
  {
   "cell_type": "code",
   "execution_count": 1,
   "id": "01d541a3-9a93-4b01-adce-931b1bfe7d75",
   "metadata": {},
   "outputs": [
    {
     "name": "stdin",
     "output_type": "stream",
     "text": [
      "Enter the string radar\n"
     ]
    },
    {
     "name": "stdout",
     "output_type": "stream",
     "text": [
      "it is palindrome\n"
     ]
    }
   ],
   "source": [
    "input_string = input(\"Enter the string\")\n",
    "reversed_string  = input_string [::-1] \n",
    "\n",
    "if input_string == reversed_string:\n",
    "    print(\"it is palindrome\")\n",
    "else:\n",
    "    print(\"it is not palindrome\")\n",
    "    "
   ]
  },
  {
   "cell_type": "markdown",
   "id": "5fa300fe-7059-4b67-8fa3-0cfb6cc997f0",
   "metadata": {},
   "source": [
    "Q5. Create a program that takes a string as input and removes all the spaces from\n",
    "it. Print the modified string without spaces."
   ]
  },
  {
   "cell_type": "code",
   "execution_count": 2,
   "id": "9abcd0fa-3745-4aea-825c-e47c4d1a6af1",
   "metadata": {},
   "outputs": [
    {
     "name": "stdout",
     "output_type": "stream",
     "text": [
      "hello\n"
     ]
    }
   ],
   "source": [
    "def remove(string):\n",
    "    return string.replace(\" \", \"\")\n",
    " \n",
    "string = ' h e l l o '\n",
    "print(remove(string))"
   ]
  },
  {
   "cell_type": "code",
   "execution_count": null,
   "id": "f29f6c70-5ffe-4951-8c19-2e66881516d5",
   "metadata": {},
   "outputs": [],
   "source": []
  }
 ],
 "metadata": {
  "kernelspec": {
   "display_name": "Python 3 (ipykernel)",
   "language": "python",
   "name": "python3"
  },
  "language_info": {
   "codemirror_mode": {
    "name": "ipython",
    "version": 3
   },
   "file_extension": ".py",
   "mimetype": "text/x-python",
   "name": "python",
   "nbconvert_exporter": "python",
   "pygments_lexer": "ipython3",
   "version": "3.10.8"
  }
 },
 "nbformat": 4,
 "nbformat_minor": 5
}
