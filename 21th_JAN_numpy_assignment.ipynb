{
 "cells": [
  {
   "cell_type": "markdown",
   "id": "2d8af479-c74e-46c9-b6db-7ef9b024e3e6",
   "metadata": {},
   "source": [
    "                                        Numpy Assignment Questions"
   ]
  },
  {
   "cell_type": "markdown",
   "id": "293a8ee8-d367-4952-ae58-98b3e4d20b14",
   "metadata": {},
   "source": [
    "Q1. What is a Python library? Why do we use Python libraries?"
   ]
  },
  {
   "cell_type": "markdown",
   "id": "54a6b2aa-bd9a-471a-998c-3b0b3dac44f8",
   "metadata": {},
   "source": [
    "A Python library is a collection of pre-written code that you can use to accomplish various tasks without having to write the code from scratch. Libraries contain modules with functions, classes, and variables that help in different areas such as data analysis, web development, machine learning, and more. By using libraries, developers can save time and effort by leveraging existing solutions.\n",
    "\n",
    "\n",
    "We use Python libraries for several reasons:\n",
    "\n",
    "Efficiency: Libraries provide pre-written, optimized code for common tasks, which saves time and effort. Instead of writing code from scratch, you can use libraries to implement functionality quickly.\n",
    "\n",
    "Reusability: Libraries offer reusable components that can be used across different projects, promoting code reusability and consistency.\n",
    "\n",
    "Community Support: Popular libraries are often well-maintained and supported by a large community. This means you can find plenty of documentation, tutorials, and forums to help you understand and use the library effectively.\n",
    "\n",
    "Reliability: Libraries are usually tested and used by many developers, which means they are more reliable and less prone to bugs compared to custom-written code.\n",
    "\n",
    "Specialization: Libraries are often specialized for specific tasks or domains, such as data analysis (Pandas), machine learning (Scikit-learn), or web development (Flask). This specialization provides powerful tools tailored to particular needs.\n",
    "\n",
    "Scalability: Libraries are designed to handle a wide range of tasks, from simple scripts to complex applications, and can scale with the needs of your project.\n",
    "\n",
    "Standardization: Using libraries helps standardize code, making it easier for others to read, understand, and collaborate on your projects."
   ]
  },
  {
   "cell_type": "markdown",
   "id": "5f1f0bbd-f49d-404f-a54b-6161e1f8cad3",
   "metadata": {},
   "source": [
    "Q2. What is the difference between Numpy array and List?"
   ]
  },
  {
   "cell_type": "markdown",
   "id": "ef13437b-c6b7-4951-b413-1f889ceb38d0",
   "metadata": {},
   "source": [
    "1. Data Type and Homogeneity\n",
    "\n",
    "NumPy Array: Elements are of the same data type (homogeneous). This allows for efficient storage and computation.\n",
    "\n",
    "\n",
    "Python List: Elements can be of different data types (heterogeneous). This flexibility comes at the cost of performance.\n",
    "\n",
    "2. Performance\n",
    "\n",
    "NumPy Array: More efficient for numerical computations. Operations on NumPy arrays are faster due to the use of optimized C and Fortran libraries under the hood.\n",
    "\n",
    "Python List: Slower for numerical computations as it is a more general-purpose container.\n",
    "\n",
    "3. Functionality\n",
    "\n",
    "NumPy Array: Supports a wide range of mathematical and logical operations directly on arrays. It includes functions for linear algebra, statistical operations, and more.\n",
    "\n",
    "Python List: Basic operations like append, insert, remove, etc. For numerical operations, you typically need loops or list comprehensions.\n",
    "\n",
    "4. Memory Usage\n",
    "\n",
    "NumPy Array: More memory-efficient as it stores elements in a contiguous block of memory.\n",
    "\n",
    "Python List: Less memory-efficient because it stores references to objects, which can be scattered across memory.\n",
    "\n",
    "5. Indexing and Slicing\n",
    "\n",
    "NumPy Array: Supports advanced indexing and slicing, including multidimensional slicing.\n",
    "\n",
    "Python List: Basic slicing and indexing. Multidimensional indexing requires nested lists.\n",
    "\n",
    "6. Broadcasting\n",
    "\n",
    "NumPy Array: Supports broadcasting, which allows for element-wise operations on arrays of different shapes.\n",
    "\n",
    "Python List: Does not support broadcasting; you need explicit loops for element-wise operations.\n",
    "\n",
    "7. Usage in Libraries\n",
    "\n",
    "NumPy Array: Widely used in scientific computing libraries (e.g., SciPy, Pandas) and machine learning frameworks (e.g., TensorFlow, PyTorch).\n",
    "\n",
    "Python List: General-purpose container, less optimized for numerical and scientific computations."
   ]
  },
  {
   "cell_type": "markdown",
   "id": "2a84fdf3-fad3-45f9-9bdb-0b9f5aacfd31",
   "metadata": {},
   "source": [
    "3. Find the shape, size and dimension of the following array?\n",
    "\n",
    "[[1, 2, 3, 4]\n",
    "\n",
    "[5, 6, 7, 8],\n",
    "\n",
    "[9, 10, 11, 12]]"
   ]
  },
  {
   "cell_type": "code",
   "execution_count": 3,
   "id": "3abe9d26-9893-446e-9e3c-2bbe90007959",
   "metadata": {},
   "outputs": [
    {
     "data": {
      "text/plain": [
       "((3, 4), 12, 2)"
      ]
     },
     "execution_count": 3,
     "metadata": {},
     "output_type": "execute_result"
    }
   ],
   "source": [
    "import numpy as np\n",
    "\n",
    "arr = np.array([[1, 2, 3, 4],\n",
    "                [5, 6, 7, 8],\n",
    "                [9, 10, 11, 12]])\n",
    " \n",
    "shape = arr.shape\n",
    "size = arr.size\n",
    "ndim = arr.ndim\n",
    "\n",
    "shape,    size,    ndim\n"
   ]
  },
  {
   "cell_type": "markdown",
   "id": "a3e92911-a668-4056-b472-89c7a4aa51cd",
   "metadata": {},
   "source": [
    "4. Write python co^e to access the first row of the following array?\n",
    "\n",
    "[[1, 2, 3, 4]\n",
    "\n",
    "[5, 6, 7, 8],\n",
    "\n",
    "[9, 10, 11, 12]]"
   ]
  },
  {
   "cell_type": "code",
   "execution_count": null,
   "id": "736d6d33-4f7f-4e27-89dd-584da72c0721",
   "metadata": {},
   "outputs": [
    {
     "data": {
      "text/plain": [
       "array([1, 2, 3, 4])"
      ]
     },
     "execution_count": 4,
     "metadata": {},
     "output_type": "execute_result"
    }
   ],
   "source": [
    "import numpy as np\n",
    " \n",
    "arr = np.array([[1, 2, 3, 4],\n",
    "                [5, 6, 7, 8],\n",
    "                [9, 10, 11, 12]])\n",
    " \n",
    "first_row = arr[0]\n",
    "\n",
    "first_row\n"
   ]
  },
  {
   "cell_type": "markdown",
   "id": "cb8611cd-92f9-4f91-9dac-cbdfc63b2729",
   "metadata": {},
   "source": [
    "5. How ^o you access the element at the thir^ row an^ fourth column from the given numpy array?\n",
    "\n",
    "[[1, 2, 3, 4]\n",
    "\n",
    "[5, 6, 7, 8],\n",
    "\n",
    "[9, 10, 11, 12]]"
   ]
  },
  {
   "cell_type": "code",
   "execution_count": 5,
   "id": "a468eefc-a998-4cbe-bca1-458b2d3afd83",
   "metadata": {},
   "outputs": [
    {
     "data": {
      "text/plain": [
       "12"
      ]
     },
     "execution_count": 5,
     "metadata": {},
     "output_type": "execute_result"
    }
   ],
   "source": [
    "import numpy as np\n",
    " \n",
    "arr = np.array([[1, 2, 3, 4],\n",
    "                [5, 6, 7, 8],\n",
    "                [9, 10, 11, 12]])\n",
    " \n",
    "element = arr[2, 3]\n",
    "\n",
    "element\n"
   ]
  },
  {
   "cell_type": "markdown",
   "id": "2ce910f7-d0e5-4b22-a7f4-c45339af83ce",
   "metadata": {},
   "source": [
    "6. Write co^e to extract all o^^-in^exe^ elements from the given numpy array?\n",
    "\n",
    "[[1, 2, 3, 4]\n",
    "\n",
    "[5, 6, 7, 8],\n",
    "\n",
    "[9, 10, 11, 12]]"
   ]
  },
  {
   "cell_type": "code",
   "execution_count": 7,
   "id": "44cd0b73-a655-4b92-a527-3572e37703a9",
   "metadata": {},
   "outputs": [
    {
     "data": {
      "text/plain": [
       "array([[6, 8]])"
      ]
     },
     "execution_count": 7,
     "metadata": {},
     "output_type": "execute_result"
    }
   ],
   "source": [
    "import numpy as np\n",
    " \n",
    "arr = np.array([[1, 2, 3, 4],\n",
    "                [5, 6, 7, 8],\n",
    "                [9, 10, 11, 12]])\n",
    " \n",
    "odd_indexed_elements = arr[1::2, 1::2]\n",
    "\n",
    "odd_indexed_elements\n"
   ]
  },
  {
   "cell_type": "markdown",
   "id": "f28d4460-f8c5-4db5-a95c-6af3acfae72a",
   "metadata": {},
   "source": [
    "7. How can you generate a random 3x3 matrix with values between 0 and 1?\n"
   ]
  },
  {
   "cell_type": "code",
   "execution_count": 9,
   "id": "2604973b-aa0a-4832-9c14-4317f7dc20ab",
   "metadata": {},
   "outputs": [
    {
     "data": {
      "text/plain": [
       "array([[0.26460404, 0.64668092, 0.60463275],\n",
       "       [0.45521084, 0.44001159, 0.20701731],\n",
       "       [0.74509181, 0.09614025, 0.29873499]])"
      ]
     },
     "execution_count": 9,
     "metadata": {},
     "output_type": "execute_result"
    }
   ],
   "source": [
    "import numpy as np\n",
    " \n",
    "random_matrix = np.random.rand(3, 3)\n",
    "\n",
    "random_matrix\n"
   ]
  },
  {
   "cell_type": "markdown",
   "id": "83f88647-c90e-463e-8fd6-515bd73b97a4",
   "metadata": {},
   "source": [
    "8. Describe the difference between np.random.rand and np.random.randn?"
   ]
  },
  {
   "cell_type": "code",
   "execution_count": 11,
   "id": "fc1b30e9-fcdc-42f4-aa58-7e7cf0ad99cd",
   "metadata": {},
   "outputs": [
    {
     "name": "stdout",
     "output_type": "stream",
     "text": [
      "[[0.05303973 0.13531087 0.16578058]\n",
      " [0.4314641  0.90185682 0.46926225]\n",
      " [0.13932444 0.02424624 0.16067664]]\n"
     ]
    }
   ],
   "source": [
    "import numpy as np\n",
    "uniform_array = np.random.rand(3, 3)\n",
    "print(uniform_array)\n"
   ]
  },
  {
   "cell_type": "markdown",
   "id": "36cef942-7b67-420b-8537-5c450a5c16e5",
   "metadata": {},
   "source": [
    "9. Write co^e to increase the ^imension of the following array?\n",
    "\n",
    "[[1, 2, 3, 4]\n",
    "\n",
    "[5, 6, 7, 8],\n",
    "\n",
    "[9, 10, 11, 12]]"
   ]
  },
  {
   "cell_type": "code",
   "execution_count": 12,
   "id": "55674fdd-9114-4d03-8128-0c9b21688028",
   "metadata": {},
   "outputs": [
    {
     "data": {
      "text/plain": [
       "array([[[ 1],\n",
       "        [ 2],\n",
       "        [ 3],\n",
       "        [ 4]],\n",
       "\n",
       "       [[ 5],\n",
       "        [ 6],\n",
       "        [ 7],\n",
       "        [ 8]],\n",
       "\n",
       "       [[ 9],\n",
       "        [10],\n",
       "        [11],\n",
       "        [12]]])"
      ]
     },
     "execution_count": 12,
     "metadata": {},
     "output_type": "execute_result"
    }
   ],
   "source": [
    "import numpy as np\n",
    " \n",
    "arr = np.array([[1, 2, 3, 4],\n",
    "                [5, 6, 7, 8],\n",
    "                [9, 10, 11, 12]])\n",
    " \n",
    "reshaped_arr = arr.reshape((3, 4, 1))\n",
    "\n",
    "reshaped_arr\n"
   ]
  },
  {
   "cell_type": "markdown",
   "id": "833f650c-cf91-4eb6-9fec-43f1244c9bf3",
   "metadata": {},
   "source": [
    "10. How to transpose the following array in NumPy?\n",
    "\n",
    "[[1, 2, 3, 4]\n",
    "\n",
    "[5, 6, 7, 8],\n",
    "\n",
    "[9, 10, 11, 12]]"
   ]
  },
  {
   "cell_type": "code",
   "execution_count": 16,
   "id": "86cad065-a788-4feb-b661-f12fe3b03af2",
   "metadata": {},
   "outputs": [
    {
     "data": {
      "text/plain": [
       "array([[ 1,  5,  9],\n",
       "       [ 2,  6, 10],\n",
       "       [ 3,  7, 11],\n",
       "       [ 4,  8, 12]])"
      ]
     },
     "execution_count": 16,
     "metadata": {},
     "output_type": "execute_result"
    }
   ],
   "source": [
    "import numpy as np\n",
    " \n",
    "arr = np.array([[1, 2, 3, 4],\n",
    "                [5, 6, 7, 8],\n",
    "                [9, 10, 11, 12]])\n",
    " \n",
    "transposed_arr = arr.T\n",
    "\n",
    "transposed_arr\n",
    "\n"
   ]
  },
  {
   "cell_type": "markdown",
   "id": "104f619f-035b-4f78-810f-b47b5e1675fa",
   "metadata": {},
   "source": [
    "11. Consider the following matrix:\n",
    "\n",
    "Matrix A2 [[1, 2, 3, 4] [5, 6, 7, 8],[9, 10, 11, 12]]\n",
    "\n",
    "Matrix B2 [[1, 2, 3, 4] [5, 6, 7, 8],[9, 10, 11, 12]]"
   ]
  },
  {
   "cell_type": "code",
   "execution_count": 17,
   "id": "00c312e7-4a58-40b4-8480-e40bc72c9e22",
   "metadata": {},
   "outputs": [
    {
     "name": "stdout",
     "output_type": "stream",
     "text": [
      "Matrix A2:\n",
      "[[ 1  2  3  4]\n",
      " [ 5  6  7  8]\n",
      " [ 9 10 11 12]]\n",
      "\n",
      "Matrix B2:\n",
      "[[ 1  2  3  4]\n",
      " [ 5  6  7  8]\n",
      " [ 9 10 11 12]]\n",
      "\n",
      "Matrix Addition:\n",
      "[[ 2  4  6  8]\n",
      " [10 12 14 16]\n",
      " [18 20 22 24]]\n",
      "\n",
      "Matrix Subtraction:\n",
      "[[0 0 0 0]\n",
      " [0 0 0 0]\n",
      " [0 0 0 0]]\n",
      "\n",
      "Matrix Element-wise Multiplication:\n",
      "[[  1   4   9  16]\n",
      " [ 25  36  49  64]\n",
      " [ 81 100 121 144]]\n"
     ]
    }
   ],
   "source": [
    "import numpy as np\n",
    " \n",
    "matrix_A2 = np.array([\n",
    "    [1, 2, 3, 4],\n",
    "    [5, 6, 7, 8],\n",
    "    [9, 10, 11, 12]\n",
    "])\n",
    "\n",
    "matrix_B2 = np.array([\n",
    "    [1, 2, 3, 4],\n",
    "    [5, 6, 7, 8],\n",
    "    [9, 10, 11, 12]\n",
    "])\n",
    " \n",
    "print(\"Matrix A2:\")\n",
    "print(matrix_A2)\n",
    "print(\"\\nMatrix B2:\")\n",
    "print(matrix_B2)\n",
    " \n",
    "addition = matrix_A2 + matrix_B2\n",
    "print(\"\\nMatrix Addition:\")\n",
    "print(addition)\n",
    " \n",
    "subtraction = matrix_A2 - matrix_B2\n",
    "print(\"\\nMatrix Subtraction:\")\n",
    "print(subtraction)\n",
    " \n",
    "multiplication = matrix_A2 * matrix_B2\n",
    "print(\"\\nMatrix Element-wise Multiplication:\")\n",
    "print(multiplication)\n",
    "\n",
    " \n"
   ]
  },
  {
   "cell_type": "markdown",
   "id": "07f1f67b-f17c-4136-bcc6-b61ebe3cbe28",
   "metadata": {},
   "source": [
    "12.  Which function in Numpy can be use^ to swap the byte or^er of an array?"
   ]
  },
  {
   "cell_type": "markdown",
   "id": "cbbcc807-80ed-48ed-83ce-e7bf7238d52b",
   "metadata": {},
   "source": [
    "To swap the byte order of an array in NumPy, you can use the np.ndarray.byteswap() method. This method is used to change the byte order of the array's elements."
   ]
  },
  {
   "cell_type": "markdown",
   "id": "316971c0-b250-49a3-88c5-a2cc28284b91",
   "metadata": {},
   "source": [
    "13.  What is the significance of the np.linalg.inv function?"
   ]
  },
  {
   "cell_type": "markdown",
   "id": "d60fd98e-45b1-4358-b90c-db2e0a7333b5",
   "metadata": {},
   "source": [
    "The np.linalg.inv function in NumPy is used to compute the inverse of a square matrix"
   ]
  },
  {
   "cell_type": "markdown",
   "id": "a02de132-2a78-4d12-9d25-3d50be7571b6",
   "metadata": {},
   "source": [
    "14. What ^oes the np.reshape function ^o, an^ how is it use^?"
   ]
  },
  {
   "cell_type": "markdown",
   "id": "f2f249b4-052e-4f6d-a658-59afad53079b",
   "metadata": {},
   "source": [
    "The np.reshape function in NumPy is used to change the shape of an array without changing its data. It allows you to specify a new shape for the array, and NumPy will arrange the elements accordingly.\n",
    "\n",
    "Key Points:\n",
    "    \n",
    "Shape Transformation: It rearranges the elements of the array into a new shape.\n",
    "\n",
    "Data Preservation: The total number of elements must remain the same before and after reshaping.\n",
    "\n",
    "SYMTAX:\n",
    "\n",
    "numpy.reshape(a, newshape, order='C')\n",
    "\n",
    "a: The array to be reshaped.\n",
    "\n",
    "newshape: The desired shape. It can be a tuple or an integer. If it is a single integer, it will be treated as a 1-D array of that length.\n",
    "\n",
    "order: The order in which the elements are read and written. 'C' means row-major (C-style) order, 'F' means column-major (Fortran-style) order, and 'A' means ‘F’ order if the array is Fortran contiguous, ‘C’ otherwise."
   ]
  },
  {
   "cell_type": "code",
   "execution_count": null,
   "id": "8288c17e-94f7-4bf0-aec9-ab5da7a03259",
   "metadata": {},
   "outputs": [],
   "source": []
  }
 ],
 "metadata": {
  "kernelspec": {
   "display_name": "Python 3 (ipykernel)",
   "language": "python",
   "name": "python3"
  },
  "language_info": {
   "codemirror_mode": {
    "name": "ipython",
    "version": 3
   },
   "file_extension": ".py",
   "mimetype": "text/x-python",
   "name": "python",
   "nbconvert_exporter": "python",
   "pygments_lexer": "ipython3",
   "version": "3.10.8"
  }
 },
 "nbformat": 4,
 "nbformat_minor": 5
}
