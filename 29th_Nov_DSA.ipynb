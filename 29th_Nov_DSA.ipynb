{
 "cells": [
  {
   "cell_type": "markdown",
   "id": "f3d62bf2-112b-43a2-a5d7-6306812e035d",
   "metadata": {},
   "source": [
    "                                                                    DSA"
   ]
  },
  {
   "cell_type": "markdown",
   "id": "cfc7a4b1-e744-4cf3-81e2-2399ad47104c",
   "metadata": {},
   "source": [
    " Problem 1: Reverse a singly linked list.Input:  1 -> 2 -> 3 -> 4 -> 5\n",
    "Output: 5 -> 4 -> 3 -> 2 -> 1"
   ]
  },
  {
   "cell_type": "code",
   "execution_count": 4,
   "id": "8315b343-dc90-40bb-97b9-5762d32facca",
   "metadata": {},
   "outputs": [
    {
     "name": "stdout",
     "output_type": "stream",
     "text": [
      "Original List:\n",
      "1 -> 2 -> 3 -> 4 -> 5\n",
      "Reversed List:\n",
      "5 -> 4 -> 3 -> 2 -> 1\n"
     ]
    }
   ],
   "source": [
    "class Node:\n",
    "    def __init__(self, value):\n",
    "        self.value = value\n",
    "        self.next = None\n",
    "\n",
    "class LinkedList:\n",
    "    def __init__(self):\n",
    "        self.head = None\n",
    "\n",
    "    def append(self, value):\n",
    "        if not self.head:\n",
    "            self.head = Node(value)\n",
    "        else:\n",
    "            current = self.head\n",
    "            while current.next:\n",
    "                current = current.next\n",
    "            current.next = Node(value)\n",
    "\n",
    "    def print_list(self):\n",
    "        current = self.head\n",
    "        while current:\n",
    "            print(current.value, end=\" -> \" if current.next else \"\")\n",
    "            current = current.next\n",
    "        print()\n",
    "\n",
    "    def reverse(self):\n",
    "        prev = None\n",
    "        current = self.head\n",
    "        while current:\n",
    "            next_node = current.next  # Preserve the next node\n",
    "            current.next = prev       # Reverse the link\n",
    "            prev = current            # Move prev forward\n",
    "            current = next_node       # Move current forward\n",
    "        self.head = prev  # Update the head to the last processed node\n",
    "\n",
    "# Example usage:\n",
    "ll = LinkedList()\n",
    "for value in [1, 2, 3, 4, 5]:\n",
    "    ll.append(value)\n",
    "\n",
    "print(\"Original List:\")\n",
    "ll.print_list()  # Output: 1 -> 2 -> 3 -> 4 -> 5\n",
    "\n",
    "ll.reverse()\n",
    "\n",
    "print(\"Reversed List:\")\n",
    "ll.print_list()  # Output: 5 -> 4 -> 3 -> 2 -> 1\n"
   ]
  },
  {
   "cell_type": "markdown",
   "id": "9fed7574-0a0d-4d78-a0fb-f1233359558c",
   "metadata": {},
   "source": [
    "Problem 2: Merge two sorted linked lists into one sorted linked list.                                                                      Input: List 1: 1 -> 3 -> 5, List 2: 2 -> 4 -> 6\n",
    "Output: 1 -> 2 -> 3 -> 4 -> 5 -> 6"
   ]
  },
  {
   "cell_type": "code",
   "execution_count": 8,
   "id": "013d6acf-38b3-4651-b8c2-9537f6f62670",
   "metadata": {},
   "outputs": [
    {
     "name": "stdout",
     "output_type": "stream",
     "text": [
      "List 1:\n",
      "1 -> 3 -> 5\n",
      "List 2:\n",
      "2 -> 4 -> 6\n",
      "Merged List:\n",
      "1 -> 2 -> 3 -> 4 -> 5 -> 6\n"
     ]
    }
   ],
   "source": [
    "class Node:\n",
    "    def __init__(self, value):\n",
    "        self.value = value\n",
    "        self.next = None\n",
    "\n",
    "class LinkedList:\n",
    "    def __init__(self):\n",
    "        self.head = None\n",
    "\n",
    "    def append(self, value):\n",
    "        if not self.head:\n",
    "            self.head = Node(value)\n",
    "        else:\n",
    "            current = self.head\n",
    "            while current.next:\n",
    "                current = current.next\n",
    "            current.next = Node(value)\n",
    "\n",
    "    def print_list(self):\n",
    "        current = self.head\n",
    "        while current:\n",
    "            print(current.value, end=\" -> \" if current.next else \"\")\n",
    "            current = current.next\n",
    "        print()\n",
    "\n",
    "def merge_sorted_lists(list1, list2):\n",
    "    dummy = Node(0)  # Dummy node\n",
    "    tail = dummy     # Pointer for the merged list\n",
    "\n",
    "    p1, p2 = list1.head, list2.head\n",
    "\n",
    "    # Merge the lists\n",
    "    while p1 and p2:\n",
    "        if p1.value < p2.value:\n",
    "            tail.next = p1\n",
    "            p1 = p1.next\n",
    "        else:\n",
    "            tail.next = p2\n",
    "            p2 = p2.next\n",
    "        tail = tail.next\n",
    "\n",
    "    # Attach the remaining nodes\n",
    "    if p1:\n",
    "        tail.next = p1\n",
    "    if p2:\n",
    "        tail.next = p2\n",
    "\n",
    "    # Return the merged list (skipping the dummy node)\n",
    "    merged_list = LinkedList()\n",
    "    merged_list.head = dummy.next\n",
    "    return merged_list\n",
    "\n",
    "# Example usage:\n",
    "list1 = LinkedList()\n",
    "for value in [1, 3, 5]:\n",
    "    list1.append(value)\n",
    "\n",
    "list2 = LinkedList()\n",
    "for value in [2, 4, 6]:\n",
    "    list2.append(value)\n",
    "\n",
    "print(\"List 1:\")\n",
    "list1.print_list()\n",
    "\n",
    "print(\"List 2:\")\n",
    "list2.print_list()\n",
    "\n",
    "merged_list = merge_sorted_lists(list1, list2)\n",
    "print(\"Merged List:\")\n",
    "merged_list.print_list()\n"
   ]
  },
  {
   "cell_type": "markdown",
   "id": "7d291ba6-a4c7-4e67-92b0-febebe888c05",
   "metadata": {},
   "source": [
    "Problem 3: Remove the nth node from the end of a linked list.                                                                  Input: 1 -> 2 -> 3 -> 4 -> 5, n = 2\n",
    "Output: 1 -> 2 -> 3 -> 5"
   ]
  },
  {
   "cell_type": "code",
   "execution_count": 12,
   "id": "8bc13b9d-4df4-4ded-b8ac-f18e02de4fc3",
   "metadata": {},
   "outputs": [
    {
     "name": "stdout",
     "output_type": "stream",
     "text": [
      "Original List:\n",
      "1 -> 2 -> 3 -> 4 -> 5\n",
      "Updated List after removing 2nd node from end:\n",
      "1 -> 2 -> 3 -> 5\n"
     ]
    }
   ],
   "source": [
    "class Node:\n",
    "    def __init__(self, value):\n",
    "        self.value = value\n",
    "        self.next = None\n",
    "\n",
    "class LinkedList:\n",
    "    def __init__(self):\n",
    "        self.head = None\n",
    "\n",
    "    def append(self, value):\n",
    "        if not self.head:\n",
    "            self.head = Node(value)\n",
    "        else:\n",
    "            current = self.head\n",
    "            while current.next:\n",
    "                current = current.next\n",
    "            current.next = Node(value)\n",
    "\n",
    "    def print_list(self):\n",
    "        current = self.head\n",
    "        while current:\n",
    "            print(current.value, end=\" -> \" if current.next else \"\")\n",
    "            current = current.next\n",
    "        print()\n",
    "\n",
    "    def remove_nth_from_end(self, n):\n",
    "        dummy = Node(0)\n",
    "        dummy.next = self.head\n",
    "        fast = slow = dummy\n",
    "\n",
    "        # Move the fast pointer n steps ahead\n",
    "        for _ in range(n):\n",
    "            fast = fast.next\n",
    "\n",
    "        # Move both pointers until fast reaches the end\n",
    "        while fast.next:\n",
    "            fast = fast.next\n",
    "            slow = slow.next\n",
    "\n",
    "        # Remove the nth node\n",
    "        slow.next = slow.next.next\n",
    "\n",
    "        # Update the head in case the removed node was the head\n",
    "        self.head = dummy.next\n",
    "\n",
    "# Example usage:\n",
    "ll = LinkedList()\n",
    "for value in [1, 2, 3, 4, 5]:\n",
    "    ll.append(value)\n",
    "\n",
    "print(\"Original List:\")\n",
    "ll.print_list()  # Output: 1 -> 2 -> 3 -> 4 -> 5\n",
    "\n",
    "ll.remove_nth_from_end(2)\n",
    "\n",
    "print(\"Updated List after removing 2nd node from end:\")\n",
    "ll.print_list()  # Output: 1 -> 2 -> 3 -> 5\n"
   ]
  },
  {
   "cell_type": "markdown",
   "id": "a99c4621-f009-4c6d-89f9-73e031b22056",
   "metadata": {},
   "source": [
    "Problem 4: Find the intersection point of two linked lists.                                                                                  Input: List 1: 1 -> 2 -> 3 -> 4, List 2: 9 -> 8 -> 3 -> 4\n",
    "Output: Node with value 3"
   ]
  },
  {
   "cell_type": "code",
   "execution_count": 16,
   "id": "e902e6b4-fffa-46eb-ae01-28e8a2583498",
   "metadata": {},
   "outputs": [
    {
     "name": "stdout",
     "output_type": "stream",
     "text": [
      "Intersection at node with value: 3\n"
     ]
    }
   ],
   "source": [
    "class Node:\n",
    "    def __init__(self, value):\n",
    "        self.value = value\n",
    "        self.next = None\n",
    "\n",
    "class LinkedList:\n",
    "    def __init__(self):\n",
    "        self.head = None\n",
    "\n",
    "    def append(self, value):\n",
    "        if not self.head:\n",
    "            self.head = Node(value)\n",
    "        else:\n",
    "            current = self.head\n",
    "            while current.next:\n",
    "                current = current.next\n",
    "            current.next = Node(value)\n",
    "\n",
    "    @staticmethod\n",
    "    def find_intersection(list1, list2):\n",
    "        def get_length(head):\n",
    "            length = 0\n",
    "            current = head\n",
    "            while current:\n",
    "                length += 1\n",
    "                current = current.next\n",
    "            return length\n",
    "\n",
    "        # Get lengths of both lists\n",
    "        len1, len2 = get_length(list1.head), get_length(list2.head)\n",
    "\n",
    "        # Align the starting points\n",
    "        longer, shorter = (list1.head, list2.head) if len1 > len2 else (list2.head, list1.head)\n",
    "        for _ in range(abs(len1 - len2)):\n",
    "            longer = longer.next\n",
    "\n",
    "        # Traverse both lists together\n",
    "        while longer and shorter:\n",
    "            if longer == shorter:  # Intersection point\n",
    "                return longer\n",
    "            longer = longer.next\n",
    "            shorter = shorter.next\n",
    "\n",
    "        return None  # No intersection\n",
    "\n",
    "# Example usage:\n",
    "list1 = LinkedList()\n",
    "list2 = LinkedList()\n",
    "\n",
    "# Create common intersection node\n",
    "common = Node(3)\n",
    "common.next = Node(4)\n",
    "\n",
    "# Create List 1: 1 -> 2 -> 3 -> 4\n",
    "list1.head = Node(1)\n",
    "list1.head.next = Node(2)\n",
    "list1.head.next.next = common\n",
    "\n",
    "# Create List 2: 9 -> 8 -> 3 -> 4\n",
    "list2.head = Node(9)\n",
    "list2.head.next = Node(8)\n",
    "list2.head.next.next = common\n",
    "\n",
    "intersection = LinkedList.find_intersection(list1, list2)\n",
    "if intersection:\n",
    "    print(\"Intersection at node with value:\", intersection.value)  # Output: Intersection at node with value: 3\n",
    "else:\n",
    "    print(\"No intersection found.\")\n"
   ]
  },
  {
   "cell_type": "markdown",
   "id": "785a2d08-ae95-4989-9a8e-8714f7dbfb16",
   "metadata": {},
   "source": [
    "Problem 5: Remove duplicates from a sorted linked list.                                                                              Input: 1 -> 1 -> 2 -> 3 -> 3\n",
    "Output: 1 -> 2 -> 3 "
   ]
  },
  {
   "cell_type": "code",
   "execution_count": 20,
   "id": "247479fe-def9-4752-9a9a-08a18ca5abd0",
   "metadata": {},
   "outputs": [
    {
     "name": "stdout",
     "output_type": "stream",
     "text": [
      "Original List:\n",
      "1 -> 1 -> 2 -> 3 -> 3\n",
      "List after removing duplicates:\n",
      "1 -> 2 -> 3\n"
     ]
    }
   ],
   "source": [
    "class ListNode:\n",
    "    def __init__(self, val=0, next=None):\n",
    "        self.val = val\n",
    "        self.next = next\n",
    "\n",
    "def remove_duplicates(head):\n",
    "    current = head\n",
    "    \n",
    "    # Traverse the list\n",
    "    while current and current.next:\n",
    "        if current.val == current.next.val:\n",
    "            # Skip the next node as it's a duplicate\n",
    "            current.next = current.next.next\n",
    "        else:\n",
    "            # Move to the next node\n",
    "            current = current.next\n",
    "    \n",
    "    return head\n",
    "\n",
    "# Helper function to print the linked list\n",
    "def print_list(head):\n",
    "    while head:\n",
    "        print(head.val, end=\" -> \" if head.next else \"\")\n",
    "        head = head.next\n",
    "    print()\n",
    "\n",
    "# Example usage:\n",
    "# Input: 1 -> 1 -> 2 -> 3 -> 3\n",
    "head = ListNode(1)\n",
    "head.next = ListNode(1)\n",
    "head.next.next = ListNode(2)\n",
    "head.next.next.next = ListNode(3)\n",
    "head.next.next.next.next = ListNode(3)\n",
    "\n",
    "print(\"Original List:\")\n",
    "print_list(head)\n",
    "\n",
    "# Remove duplicates\n",
    "head = remove_duplicates(head)\n",
    "\n",
    "print(\"List after removing duplicates:\")\n",
    "print_list(head)\n"
   ]
  },
  {
   "cell_type": "markdown",
   "id": "02714387-3167-47a6-99a7-7b83864e8b36",
   "metadata": {},
   "source": [
    "Problem 6: Add two numbers represented by linked lists (where each node contains a single digit).           Input: List 1: 2 -> 4 -> 3, List 2: 5 -> 6 -> 4 (represents 342 + 465)\n",
    "Output: 7 -> 0 -> 8 (represents 807)"
   ]
  },
  {
   "cell_type": "code",
   "execution_count": 24,
   "id": "f83ba81c-42fa-4179-a776-7365a7513ef7",
   "metadata": {},
   "outputs": [
    {
     "name": "stdout",
     "output_type": "stream",
     "text": [
      "List 1:\n",
      "2 -> 4 -> 3\n",
      "List 2:\n",
      "5 -> 6 -> 4\n",
      "Sum:\n",
      "7 -> 0 -> 8\n"
     ]
    }
   ],
   "source": [
    "class Node:\n",
    "    def __init__(self, value):\n",
    "        self.value = value\n",
    "        self.next = None\n",
    "\n",
    "class LinkedList:\n",
    "    def __init__(self):\n",
    "        self.head = None\n",
    "\n",
    "    def append(self, value):\n",
    "        if not self.head:\n",
    "            self.head = Node(value)\n",
    "        else:\n",
    "            current = self.head\n",
    "            while current.next:\n",
    "                current = current.next\n",
    "            current.next = Node(value)\n",
    "\n",
    "    def print_list(self):\n",
    "        current = self.head\n",
    "        while current:\n",
    "            print(current.value, end=\" -> \" if current.next else \"\")\n",
    "            current = current.next\n",
    "        print()\n",
    "\n",
    "def add_two_numbers(list1, list2):\n",
    "    dummy = Node(0)\n",
    "    current = dummy\n",
    "    carry = 0\n",
    "\n",
    "    p1, p2 = list1.head, list2.head\n",
    "\n",
    "    while p1 or p2 or carry:\n",
    "        val1 = p1.value if p1 else 0\n",
    "        val2 = p2.value if p2 else 0\n",
    "\n",
    "        # Compute sum and carry\n",
    "        total = val1 + val2 + carry\n",
    "        carry = total // 10\n",
    "        current.next = Node(total % 10)\n",
    "\n",
    "        # Move pointers\n",
    "        current = current.next\n",
    "        if p1: p1 = p1.next\n",
    "        if p2: p2 = p2.next\n",
    "\n",
    "    # Result list starts from dummy.next\n",
    "    result = LinkedList()\n",
    "    result.head = dummy.next\n",
    "    return result\n",
    "\n",
    "# Example usage:\n",
    "list1 = LinkedList()\n",
    "list2 = LinkedList()\n",
    "\n",
    "for value in [2, 4, 3]:  # Represents 342\n",
    "    list1.append(value)\n",
    "\n",
    "for value in [5, 6, 4]:  # Represents 465\n",
    "    list2.append(value)\n",
    "\n",
    "print(\"List 1:\")\n",
    "list1.print_list()  # Output: 2 -> 4 -> 3\n",
    "\n",
    "print(\"List 2:\")\n",
    "list2.print_list()  # Output: 5 -> 6 -> 4\n",
    "\n",
    "result = add_two_numbers(list1, list2)\n",
    "print(\"Sum:\")\n",
    "result.print_list()  # Output: 7 -> 0 -> 8\n"
   ]
  },
  {
   "cell_type": "markdown",
   "id": "8cee3b53-91e1-4aad-a3a3-a868ebe7b36b",
   "metadata": {},
   "source": [
    "Problem 7: Swap nodes in pairs in a linked list.                                                                                           Input: 1 -> 2 -> 3 -> 4\n",
    "Output: 2 -> 1 -> 4 -> 3"
   ]
  },
  {
   "cell_type": "code",
   "execution_count": 28,
   "id": "577e7064-abbc-4540-9774-2dce0eb476f1",
   "metadata": {},
   "outputs": [
    {
     "name": "stdout",
     "output_type": "stream",
     "text": [
      "Original List:\n",
      "1 -> 2 -> 3 -> 4\n",
      "Swapped List:\n",
      "2 -> 1 -> 4 -> 3\n"
     ]
    }
   ],
   "source": [
    "class Node:\n",
    "    def __init__(self, value):\n",
    "        self.value = value\n",
    "        self.next = None\n",
    "\n",
    "class LinkedList:\n",
    "    def __init__(self):\n",
    "        self.head = None\n",
    "\n",
    "    def append(self, value):\n",
    "        if not self.head:\n",
    "            self.head = Node(value)\n",
    "        else:\n",
    "            current = self.head\n",
    "            while current.next:\n",
    "                current = current.next\n",
    "            current.next = Node(value)\n",
    "\n",
    "    def print_list(self):\n",
    "        current = self.head\n",
    "        while current:\n",
    "            print(current.value, end=\" -> \" if current.next else \"\")\n",
    "            current = current.next\n",
    "        print()\n",
    "\n",
    "    def swap_pairs(self):\n",
    "        dummy = Node(0)\n",
    "        dummy.next = self.head\n",
    "        prev = dummy\n",
    "\n",
    "        while prev.next and prev.next.next:\n",
    "            # Identify the nodes to be swapped\n",
    "            first = prev.next\n",
    "            second = first.next\n",
    "\n",
    "            # Perform the swap\n",
    "            first.next = second.next\n",
    "            second.next = first\n",
    "            prev.next = second\n",
    "\n",
    "            # Move prev pointer forward\n",
    "            prev = first\n",
    "\n",
    "        # Update the head in case it was swapped\n",
    "        self.head = dummy.next\n",
    "\n",
    "# Example usage:\n",
    "ll = LinkedList()\n",
    "for value in [1, 2, 3, 4]:\n",
    "    ll.append(value)\n",
    "\n",
    "print(\"Original List:\")\n",
    "ll.print_list()  # Output: 1 -> 2 -> 3 -> 4\n",
    "\n",
    "ll.swap_pairs()\n",
    "\n",
    "print(\"Swapped List:\")\n",
    "ll.print_list()  # Output: 2 -> 1 -> 4 -> 3\n"
   ]
  },
  {
   "cell_type": "markdown",
   "id": "c3c42906-823b-443d-9297-0e312abf14a2",
   "metadata": {},
   "source": [
    "Problem 8: Reverse nodes in a linked list in groups of k.                                                                               Input: 1 -> 2 -> 3 -> 4 -> 5, k = 3\n",
    "Output: 3 -> 2 -> 1 -> 4 -> 5"
   ]
  },
  {
   "cell_type": "code",
   "execution_count": 34,
   "id": "f15d8c6d-b367-40bb-b2e2-28067868e007",
   "metadata": {},
   "outputs": [
    {
     "name": "stdout",
     "output_type": "stream",
     "text": [
      "Original List:\n",
      "1 -> 2 -> 3 -> 4 -> 5\n"
     ]
    },
    {
     "ename": "AttributeError",
     "evalue": "'NoneType' object has no attribute 'next'",
     "output_type": "error",
     "traceback": [
      "\u001b[1;31m---------------------------------------------------------------------------\u001b[0m",
      "\u001b[1;31mAttributeError\u001b[0m                            Traceback (most recent call last)",
      "Cell \u001b[1;32mIn[34], line 73\u001b[0m\n\u001b[0;32m     70\u001b[0m \u001b[38;5;28mprint\u001b[39m(\u001b[38;5;124m\"\u001b[39m\u001b[38;5;124mOriginal List:\u001b[39m\u001b[38;5;124m\"\u001b[39m)\n\u001b[0;32m     71\u001b[0m ll\u001b[38;5;241m.\u001b[39mprint_list()  \u001b[38;5;66;03m# Output: 1 -> 2 -> 3 -> 4 -> 5\u001b[39;00m\n\u001b[1;32m---> 73\u001b[0m ll\u001b[38;5;241m.\u001b[39mreverse_k_group(\u001b[38;5;241m3\u001b[39m)\n\u001b[0;32m     75\u001b[0m \u001b[38;5;28mprint\u001b[39m(\u001b[38;5;124m\"\u001b[39m\u001b[38;5;124mReversed in Groups of k=3:\u001b[39m\u001b[38;5;124m\"\u001b[39m)\n\u001b[0;32m     76\u001b[0m ll\u001b[38;5;241m.\u001b[39mprint_list()\n",
      "Cell \u001b[1;32mIn[34], line 56\u001b[0m, in \u001b[0;36mLinkedList.reverse_k_group\u001b[1;34m(self, k)\u001b[0m\n\u001b[0;32m     54\u001b[0m group_start \u001b[38;5;241m=\u001b[39m group_prev\u001b[38;5;241m.\u001b[39mnext\n\u001b[0;32m     55\u001b[0m kth\u001b[38;5;241m.\u001b[39mnext \u001b[38;5;241m=\u001b[39m \u001b[38;5;28;01mNone\u001b[39;00m  \u001b[38;5;66;03m# Temporarily terminate the current group\u001b[39;00m\n\u001b[1;32m---> 56\u001b[0m reversed_group_head \u001b[38;5;241m=\u001b[39m reverse_group(group_start, group_next)\n\u001b[0;32m     58\u001b[0m \u001b[38;5;66;03m# Connect the reversed group with the previous and next parts of the list\u001b[39;00m\n\u001b[0;32m     59\u001b[0m group_prev\u001b[38;5;241m.\u001b[39mnext \u001b[38;5;241m=\u001b[39m reversed_group_head\n",
      "Cell \u001b[1;32mIn[34], line 32\u001b[0m, in \u001b[0;36mLinkedList.reverse_k_group.<locals>.reverse_group\u001b[1;34m(start, end)\u001b[0m\n\u001b[0;32m     30\u001b[0m current \u001b[38;5;241m=\u001b[39m start\n\u001b[0;32m     31\u001b[0m \u001b[38;5;28;01mwhile\u001b[39;00m current \u001b[38;5;241m!=\u001b[39m end:\n\u001b[1;32m---> 32\u001b[0m     next_node \u001b[38;5;241m=\u001b[39m current\u001b[38;5;241m.\u001b[39mnext\n\u001b[0;32m     33\u001b[0m     current\u001b[38;5;241m.\u001b[39mnext \u001b[38;5;241m=\u001b[39m prev\n\u001b[0;32m     34\u001b[0m     prev \u001b[38;5;241m=\u001b[39m current\n",
      "\u001b[1;31mAttributeError\u001b[0m: 'NoneType' object has no attribute 'next'"
     ]
    }
   ],
   "source": [
    " class Node:\n",
    "    def __init__(self, value):\n",
    "        self.value = value\n",
    "        self.next = None\n",
    "\n",
    "class LinkedList:\n",
    "    def __init__(self):\n",
    "        self.head = None\n",
    "\n",
    "    def append(self, value):\n",
    "        if not self.head:\n",
    "            self.head = Node(value)\n",
    "        else:\n",
    "            current = self.head\n",
    "            while current.next:\n",
    "                current = current.next\n",
    "            current.next = Node(value)\n",
    "\n",
    "    def print_list(self):\n",
    "        current = self.head\n",
    "        while current:\n",
    "            print(current.value, end=\" -> \" if current.next else \"\")\n",
    "            current = current.next\n",
    "        print()\n",
    "\n",
    "    def reverse_k_group(self, k):\n",
    "        def reverse_group(start, end):\n",
    "            \"\"\"Reverses the nodes from start to end (exclusive).\"\"\"\n",
    "            prev = None\n",
    "            current = start\n",
    "            while current != end:\n",
    "                next_node = current.next\n",
    "                current.next = prev\n",
    "                prev = current\n",
    "                current = next_node\n",
    "            return prev\n",
    "\n",
    "        dummy = Node(0)\n",
    "        dummy.next = self.head\n",
    "        group_prev = dummy\n",
    "\n",
    "        while True:\n",
    "            # Identify the kth node\n",
    "            kth = group_prev\n",
    "            for _ in range(k):\n",
    "                kth = kth.next\n",
    "                if not kth:\n",
    "                    # If fewer than k nodes, return the list\n",
    "                    self.head = dummy.next\n",
    "                    return\n",
    "\n",
    "            group_next = kth.next  # The node after the kth node\n",
    "            # Reverse the current group\n",
    "            group_start = group_prev.next\n",
    "            kth.next = None  # Temporarily terminate the current group\n",
    "            reversed_group_head = reverse_group(group_start, group_next)\n",
    "\n",
    "            # Connect the reversed group with the previous and next parts of the list\n",
    "            group_prev.next = reversed_group_head\n",
    "            group_start.next = group_next\n",
    "\n",
    "            # Move group_prev to the end of the reversed group\n",
    "            group_prev = group_start\n",
    "\n",
    "# Example usage:\n",
    "ll = LinkedList()\n",
    "for value in [1, 2, 3, 4, 5]:\n",
    "    ll.append(value)\n",
    "\n",
    "print(\"Original List:\")\n",
    "ll.print_list()  # Output: 1 -> 2 -> 3 -> 4 -> 5\n",
    "\n",
    "ll.reverse_k_group(3)\n",
    "\n",
    "print(\"Reversed in Groups of k=3:\")\n",
    "ll.print_list()  # Output: 3 -> 2 -> 1 -> 4 -> 5\n"
   ]
  },
  {
   "cell_type": "markdown",
   "id": "18302cd3-d95b-4c70-93ea-e1835af47969",
   "metadata": {},
   "source": [
    "Problem 9: Determine if a linked list is a palindrome.                                                                                    Input: 1 -> 2 -> 2 -> 1\n",
    "Output: True"
   ]
  },
  {
   "cell_type": "code",
   "execution_count": 36,
   "id": "d93b2b09-f9d6-43a7-bc0a-62fa70402b34",
   "metadata": {},
   "outputs": [
    {
     "name": "stdout",
     "output_type": "stream",
     "text": [
      "Original List:\n",
      "1 -> 2 -> 2 -> 1\n",
      "Is Palindrome? True\n"
     ]
    }
   ],
   "source": [
    "class Node:\n",
    "    def __init__(self, value):\n",
    "        self.value = value\n",
    "        self.next = None\n",
    "\n",
    "class LinkedList:\n",
    "    def __init__(self):\n",
    "        self.head = None\n",
    "\n",
    "    def append(self, value):\n",
    "        if not self.head:\n",
    "            self.head = Node(value)\n",
    "        else:\n",
    "            current = self.head\n",
    "            while current.next:\n",
    "                current = current.next\n",
    "            current.next = Node(value)\n",
    "\n",
    "    def print_list(self):\n",
    "        current = self.head\n",
    "        while current:\n",
    "            print(current.value, end=\" -> \" if current.next else \"\")\n",
    "            current = current.next\n",
    "        print()\n",
    "\n",
    "    def is_palindrome(self):\n",
    "        def reverse(head):\n",
    "            \"\"\"Reverses a linked list and returns the new head.\"\"\"\n",
    "            prev = None\n",
    "            current = head\n",
    "            while current:\n",
    "                next_node = current.next\n",
    "                current.next = prev\n",
    "                prev = current\n",
    "                current = next_node\n",
    "            return prev\n",
    "\n",
    "        # Step 1: Find the middle\n",
    "        slow, fast = self.head, self.head\n",
    "        while fast and fast.next:\n",
    "            slow = slow.next\n",
    "            fast = fast.next.next\n",
    "\n",
    "        # Step 2: Reverse the second half\n",
    "        second_half = reverse(slow)\n",
    "\n",
    "        # Step 3: Compare the two halves\n",
    "        first_half, second_half_copy = self.head, second_half\n",
    "        while second_half:\n",
    "            if first_half.value != second_half.value:\n",
    "                # Restore the list before returning\n",
    "                reverse(second_half_copy)\n",
    "                return False\n",
    "            first_half = first_half.next\n",
    "            second_half = second_half.next\n",
    "\n",
    "        # Step 4: Restore the second half (optional)\n",
    "        reverse(second_half_copy)\n",
    "\n",
    "        return True\n",
    "\n",
    "# Example usage:\n",
    "ll = LinkedList()\n",
    "for value in [1, 2, 2, 1]:\n",
    "    ll.append(value)\n",
    "\n",
    "print(\"Original List:\")\n",
    "ll.print_list()  # Output: 1 -> 2 -> 2 -> 1\n",
    "\n",
    "print(\"Is Palindrome?\", ll.is_palindrome())  # Output: True\n"
   ]
  },
  {
   "cell_type": "markdown",
   "id": "e4252a7a-ea90-4eec-91e8-fae0f4368791",
   "metadata": {},
   "source": [
    "Problem 10: Rotate a linked list to the right by k places.                                                                               Input: 1 -> 2 -> 3 -> 4 -> 5, k = 2\n",
    "Output: 4 -> 5 -> 1 -> 2 -> 3"
   ]
  },
  {
   "cell_type": "code",
   "execution_count": 40,
   "id": "543ed698-7db2-473d-b1c3-5747b92cca15",
   "metadata": {},
   "outputs": [
    {
     "name": "stdout",
     "output_type": "stream",
     "text": [
      "Original List:\n",
      "1 -> 2 -> 3 -> 4 -> 5\n",
      "List after rotating by 2:\n",
      "4 -> 5 -> 1 -> 2 -> 3\n"
     ]
    }
   ],
   "source": [
    "class Node:\n",
    "    def __init__(self, value):\n",
    "        self.value = value\n",
    "        self.next = None\n",
    "\n",
    "class LinkedList:\n",
    "    def __init__(self):\n",
    "        self.head = None\n",
    "\n",
    "    def append(self, value):\n",
    "        if not self.head:\n",
    "            self.head = Node(value)\n",
    "        else:\n",
    "            current = self.head\n",
    "            while current.next:\n",
    "                current = current.next\n",
    "            current.next = Node(value)\n",
    "\n",
    "    def print_list(self):\n",
    "        current = self.head\n",
    "        while current:\n",
    "            print(current.value, end=\" -> \" if current.next else \"\")\n",
    "            current = current.next\n",
    "        print()\n",
    "\n",
    "    def rotate_right(self, k):\n",
    "        if not self.head or k == 0:\n",
    "            return\n",
    "        \n",
    "        # Step 1: Find the length of the list\n",
    "        length = 1\n",
    "        tail = self.head\n",
    "        while tail.next:\n",
    "            tail = tail.next\n",
    "            length += 1\n",
    "        \n",
    "        # Step 2: Normalize k to be within the bounds of the list length\n",
    "        k = k % length\n",
    "        if k == 0:\n",
    "            return\n",
    "        \n",
    "        # Step 3: Find the new tail (length - k - 1) and the new head (length - k)\n",
    "        new_tail = self.head\n",
    "        for _ in range(length - k - 1):\n",
    "            new_tail = new_tail.next\n",
    "        \n",
    "        # Step 4: Rotate the list\n",
    "        new_head = new_tail.next\n",
    "        new_tail.next = None\n",
    "        tail.next = self.head\n",
    "        self.head = new_head\n",
    "\n",
    "# Example usage:\n",
    "ll = LinkedList()\n",
    "for value in [1, 2, 3, 4, 5]:\n",
    "    ll.append(value)\n",
    "\n",
    "print(\"Original List:\")\n",
    "ll.print_list()  # Output: 1 -> 2 -> 3 -> 4 -> 5\n",
    "\n",
    "ll.rotate_right(2)\n",
    "\n",
    "print(\"List after rotating by 2:\")\n",
    "ll.print_list()  # Output: 4 -> 5 -> 1 -> 2 -> 3\n"
   ]
  },
  {
   "cell_type": "markdown",
   "id": "3af74ba4-6d4a-4f58-89f2-8e0fe7c6d3fb",
   "metadata": {},
   "source": [
    "Problem 11: Flatten a multilevel doubly linked list.                                                                                           Input: 1 <-> 2 <-> 3 <-> 7 <-> 8 <-> 11 -> 12, 4 <-> 5 -> 9 -> 10, 6 -> 13\n",
    "Output: 1 <-> 2 <-> 3 <-> 4 <-> 5 <-> 6 <-> 7 <-> 8 <-> 9 <-> 10 <-> 11 <-> 12 <-> 13"
   ]
  },
  {
   "cell_type": "code",
   "execution_count": 46,
   "id": "a4d17649-9999-4af5-a3a6-0ac09d656997",
   "metadata": {},
   "outputs": [
    {
     "name": "stdout",
     "output_type": "stream",
     "text": [
      "Original List:\n",
      "1 <-> 2 <-> 3 <-> 7 <-> 8 <-> 11 <-> 12\n"
     ]
    },
    {
     "ename": "AttributeError",
     "evalue": "'NoneType' object has no attribute 'next'",
     "output_type": "error",
     "traceback": [
      "\u001b[1;31m---------------------------------------------------------------------------\u001b[0m",
      "\u001b[1;31mAttributeError\u001b[0m                            Traceback (most recent call last)",
      "Cell \u001b[1;32mIn[46], line 80\u001b[0m\n\u001b[0;32m     77\u001b[0m \u001b[38;5;28mprint\u001b[39m(\u001b[38;5;124m\"\u001b[39m\u001b[38;5;124mOriginal List:\u001b[39m\u001b[38;5;124m\"\u001b[39m)\n\u001b[0;32m     78\u001b[0m dll\u001b[38;5;241m.\u001b[39mprint_list()  \u001b[38;5;66;03m# Before flattening\u001b[39;00m\n\u001b[1;32m---> 80\u001b[0m dll\u001b[38;5;241m.\u001b[39mflatten()\n\u001b[0;32m     82\u001b[0m \u001b[38;5;28mprint\u001b[39m(\u001b[38;5;124m\"\u001b[39m\u001b[38;5;124mFlattened List:\u001b[39m\u001b[38;5;124m\"\u001b[39m)\n\u001b[0;32m     83\u001b[0m dll\u001b[38;5;241m.\u001b[39mprint_list()\n",
      "Cell \u001b[1;32mIn[46], line 47\u001b[0m, in \u001b[0;36mDoublyLinkedList.flatten\u001b[1;34m(self)\u001b[0m\n\u001b[0;32m     44\u001b[0m             current \u001b[38;5;241m=\u001b[39m current\u001b[38;5;241m.\u001b[39mnext\n\u001b[0;32m     45\u001b[0m     \u001b[38;5;28;01mreturn\u001b[39;00m current\n\u001b[1;32m---> 47\u001b[0m flatten_list(\u001b[38;5;28mself\u001b[39m\u001b[38;5;241m.\u001b[39mhead)\n",
      "Cell \u001b[1;32mIn[46], line 37\u001b[0m, in \u001b[0;36mDoublyLinkedList.flatten.<locals>.flatten_list\u001b[1;34m(node)\u001b[0m\n\u001b[0;32m     35\u001b[0m current\u001b[38;5;241m.\u001b[39mnext \u001b[38;5;241m=\u001b[39m child\n\u001b[0;32m     36\u001b[0m child\u001b[38;5;241m.\u001b[39mprev \u001b[38;5;241m=\u001b[39m current\n\u001b[1;32m---> 37\u001b[0m child_tail\u001b[38;5;241m.\u001b[39mnext \u001b[38;5;241m=\u001b[39m next_node\n\u001b[0;32m     38\u001b[0m \u001b[38;5;28;01mif\u001b[39;00m next_node:\n\u001b[0;32m     39\u001b[0m     next_node\u001b[38;5;241m.\u001b[39mprev \u001b[38;5;241m=\u001b[39m child_tail\n",
      "\u001b[1;31mAttributeError\u001b[0m: 'NoneType' object has no attribute 'next'"
     ]
    }
   ],
   "source": [
    " class Node:\n",
    "    def __init__(self, value):\n",
    "        self.value = value\n",
    "        self.next = None\n",
    "        self.prev = None\n",
    "        self.child = None\n",
    "\n",
    "class DoublyLinkedList:\n",
    "    def __init__(self):\n",
    "        self.head = None\n",
    "\n",
    "    def append(self, value):\n",
    "        new_node = Node(value)\n",
    "        if not self.head:\n",
    "            self.head = new_node\n",
    "        else:\n",
    "            current = self.head\n",
    "            while current.next:\n",
    "                current = current.next\n",
    "            current.next = new_node\n",
    "            new_node.prev = current\n",
    "\n",
    "    def flatten(self):\n",
    "        def flatten_list(node):\n",
    "            current = node\n",
    "            while current:\n",
    "                if current.child:\n",
    "                    child = current.child\n",
    "                    # Flatten the child list\n",
    "                    current.child = None\n",
    "                    child_tail = flatten_list(child)\n",
    "\n",
    "                    # Connect the child list after the current node\n",
    "                    next_node = current.next\n",
    "                    current.next = child\n",
    "                    child.prev = current\n",
    "                    child_tail.next = next_node\n",
    "                    if next_node:\n",
    "                        next_node.prev = child_tail\n",
    "\n",
    "                    # Move to the end of the flattened list\n",
    "                    current = child_tail\n",
    "                else:\n",
    "                    current = current.next\n",
    "            return current\n",
    "\n",
    "        flatten_list(self.head)\n",
    "\n",
    "    def print_list(self):\n",
    "        current = self.head\n",
    "        while current:\n",
    "            print(current.value, end=\" <-> \" if current.next else \"\")\n",
    "            current = current.next\n",
    "        print()\n",
    "\n",
    "# Example usage:\n",
    "dll = DoublyLinkedList()\n",
    "\n",
    "# Create the multilevel doubly linked list\n",
    "dll.append(1)\n",
    "dll.append(2)\n",
    "dll.append(3)\n",
    "dll.append(7)\n",
    "dll.append(8)\n",
    "dll.append(11)\n",
    "dll.append(12)\n",
    "\n",
    "# Adding child lists\n",
    "dll.head.next.next.next.child = Node(4)\n",
    "dll.head.next.next.next.child.next = Node(5)\n",
    "dll.head.next.next.next.child.next.next = Node(9)\n",
    "dll.head.next.next.next.child.next.next.next = Node(10)\n",
    "\n",
    "dll.head.next.next.next.next.child = Node(6)\n",
    "dll.head.next.next.next.next.child.next = Node(13)\n",
    "\n",
    "print(\"Original List:\")\n",
    "dll.print_list()  # Before flattening\n",
    "\n",
    "dll.flatten()\n",
    "\n",
    "print(\"Flattened List:\")\n",
    "dll.print_list()  # After flattening\n"
   ]
  },
  {
   "cell_type": "markdown",
   "id": "64c9e81d-7726-4eec-a4df-ae33846e19d1",
   "metadata": {},
   "source": [
    "Problem 12: Rearrange a linked list such that all even positioned nodes are placed at the end. Input: 1 -> 2 -> 3 -> 4 -> 5\n",
    "Output: 1 -> 3 -> 5 -> 2 -> 4"
   ]
  },
  {
   "cell_type": "code",
   "execution_count": 53,
   "id": "99cdd8d7-4be9-4c51-947f-23d77a687185",
   "metadata": {},
   "outputs": [
    {
     "name": "stdout",
     "output_type": "stream",
     "text": [
      "Original List:\n",
      "1 -> 2 -> 3 -> 4 -> 5\n",
      "Rearranged List:\n",
      "1 -> 3 -> 5 -> 2 -> 4\n"
     ]
    }
   ],
   "source": [
    "class Node:\n",
    "    def __init__(self, value):\n",
    "        self.value = value\n",
    "        self.next = None\n",
    "\n",
    "class LinkedList:\n",
    "    def __init__(self):\n",
    "        self.head = None\n",
    "\n",
    "    def append(self, value):\n",
    "        new_node = Node(value)\n",
    "        if not self.head:\n",
    "            self.head = new_node\n",
    "        else:\n",
    "            current = self.head\n",
    "            while current.next:\n",
    "                current = current.next\n",
    "            current.next = new_node\n",
    "\n",
    "    def print_list(self):\n",
    "        current = self.head\n",
    "        while current:\n",
    "            print(current.value, end=\" -> \" if current.next else \"\")\n",
    "            current = current.next\n",
    "        print()\n",
    "\n",
    "    def rearrange(self):\n",
    "        if not self.head or not self.head.next:\n",
    "            return\n",
    "\n",
    "        odd_head = self.head\n",
    "        even_head = self.head.next\n",
    "        odd = odd_head\n",
    "        even = even_head\n",
    "\n",
    "        while even and even.next:\n",
    "            odd.next = even.next\n",
    "            odd = odd.next\n",
    "            even.next = odd.next\n",
    "            even = even.next\n",
    "\n",
    "        # Connect the odd list to the even list\n",
    "        odd.next = even_head\n",
    "\n",
    "        # Terminate the list\n",
    "        if even:\n",
    "            even.next = None\n",
    "\n",
    "# Example usage:\n",
    "ll = LinkedList()\n",
    "for value in [1, 2, 3, 4, 5]:\n",
    "    ll.append(value)\n",
    "\n",
    "print(\"Original List:\")\n",
    "ll.print_list()  # Output: 1 -> 2 -> 3 -> 4 -> 5\n",
    "\n",
    "ll.rearrange()\n",
    "\n",
    "print(\"Rearranged List:\")\n",
    "ll.print_list()  # Output: 1 -> 3 -> 5 -> 2 -> 4\n"
   ]
  },
  {
   "cell_type": "markdown",
   "id": "30ed763b-d4c2-44ce-9f2d-08b9e5bd460f",
   "metadata": {},
   "source": [
    "Problem 13: Given a non-negative number represented as a linked list, add one to it.                                        Input: 1 -> 2 -> 3 (represents the number 123)\n",
    "Output: 1 -> 2 -> 4 (represents the number 124)"
   ]
  },
  {
   "cell_type": "code",
   "execution_count": 59,
   "id": "c35ad6a6-620d-41d3-968d-3363a3efb853",
   "metadata": {},
   "outputs": [
    {
     "name": "stdout",
     "output_type": "stream",
     "text": [
      "Original List:\n",
      "1 -> 2 -> 3\n",
      "List after adding one:\n",
      "1 -> 2 -> 4\n"
     ]
    }
   ],
   "source": [
    "class Node:\n",
    "    def __init__(self, value):\n",
    "        self.value = value\n",
    "        self.next = None\n",
    "\n",
    "class LinkedList:\n",
    "    def __init__(self):\n",
    "        self.head = None\n",
    "\n",
    "    def append(self, value):\n",
    "        new_node = Node(value)\n",
    "        if not self.head:\n",
    "            self.head = new_node\n",
    "        else:\n",
    "            current = self.head\n",
    "            while current.next:\n",
    "                current = current.next\n",
    "            current.next = new_node\n",
    "\n",
    "    def print_list(self):\n",
    "        current = self.head\n",
    "        while current:\n",
    "            print(current.value, end=\" -> \" if current.next else \"\")\n",
    "            current = current.next\n",
    "        print()\n",
    "\n",
    "    def add_one(self):\n",
    "        # Reverse the linked list first\n",
    "        self.head = self.reverse(self.head)\n",
    "        \n",
    "        # Add one to the reversed list\n",
    "        current = self.head\n",
    "        carry = 1\n",
    "        \n",
    "        while current and carry:\n",
    "            current.value += carry\n",
    "            if current.value == 10:\n",
    "                current.value = 0\n",
    "                carry = 1\n",
    "            else:\n",
    "                carry = 0\n",
    "            current = current.next\n",
    "        \n",
    "        # If carry is still 1, we need to add a new node at the end\n",
    "        if carry:\n",
    "            new_node = Node(1)\n",
    "            current.next = new_node\n",
    "        \n",
    "        # Reverse the list again to restore the original order\n",
    "        self.head = self.reverse(self.head)\n",
    "\n",
    "    def reverse(self, node):\n",
    "        prev = None\n",
    "        current = node\n",
    "        while current:\n",
    "            next_node = current.next\n",
    "            current.next = prev\n",
    "            prev = current\n",
    "            current = next_node\n",
    "        return prev\n",
    "\n",
    "# Example usage:\n",
    "ll = LinkedList()\n",
    "for value in [1, 2, 3]:\n",
    "    ll.append(value)\n",
    "\n",
    "print(\"Original List:\")\n",
    "ll.print_list()  # Output: 1 -> 2 -> 3\n",
    "\n",
    "ll.add_one()\n",
    "\n",
    "print(\"List after adding one:\")\n",
    "ll.print_list()  # Output: 1 -> 2 -> 4\n"
   ]
  },
  {
   "cell_type": "markdown",
   "id": "0b757f10-adad-4d03-a08f-f94fc870c73a",
   "metadata": {},
   "source": [
    "Problem 14: Given a sorted array and a target value, return the index if the target is found. If not, return the\n",
    "index where it would be inserted.                                                                                                                           Input: nums = [1, 3, 5, 6], target = 5\n",
    "Output: 2"
   ]
  },
  {
   "cell_type": "code",
   "execution_count": 62,
   "id": "1181a3c1-61f5-4d21-81ea-6e86da3f5608",
   "metadata": {},
   "outputs": [
    {
     "name": "stdout",
     "output_type": "stream",
     "text": [
      "2\n",
      "1\n",
      "4\n",
      "0\n"
     ]
    }
   ],
   "source": [
    "def search_insert(nums, target):\n",
    "    left, right = 0, len(nums) - 1\n",
    "    \n",
    "    while left <= right:\n",
    "        mid = (left + right) // 2\n",
    "        \n",
    "        if nums[mid] == target:\n",
    "            return mid\n",
    "        elif nums[mid] < target:\n",
    "            left = mid + 1\n",
    "        else:\n",
    "            right = mid - 1\n",
    "    \n",
    "    # If target is not found, left will be the insertion index\n",
    "    return left\n",
    "\n",
    "# Example usage:\n",
    "nums = [1, 3, 5, 6]\n",
    "target = 5\n",
    "print(search_insert(nums, target))  # Output: 2\n",
    "\n",
    "target = 2\n",
    "print(search_insert(nums, target))  # Output: 1\n",
    "\n",
    "target = 7\n",
    "print(search_insert(nums, target))  # Output: 4\n",
    "\n",
    "target = 0\n",
    "print(search_insert(nums, target))  # Output: 0\n"
   ]
  },
  {
   "cell_type": "markdown",
   "id": "ef6d0ac9-d40b-4ebf-a29e-93bb2c08cb7d",
   "metadata": {},
   "source": [
    "Problem 15: Find the minimum element in a rotated sorted array.                                                                        Input: [4, 5, 6, 7, 0, 1, 2]\n",
    "Output: 0"
   ]
  },
  {
   "cell_type": "code",
   "execution_count": 66,
   "id": "dca54c6d-63b8-4d13-a1c2-d51dba7c54e9",
   "metadata": {},
   "outputs": [
    {
     "name": "stdout",
     "output_type": "stream",
     "text": [
      "0\n",
      "11\n"
     ]
    }
   ],
   "source": [
    "def find_min(nums):\n",
    "    left, right = 0, len(nums) - 1\n",
    "    \n",
    "    while left < right:\n",
    "        mid = (left + right) // 2\n",
    "        \n",
    "        if nums[mid] > nums[right]:\n",
    "            # The minimum is on the right side\n",
    "            left = mid + 1\n",
    "        else:\n",
    "            # The minimum is on the left side\n",
    "            right = mid\n",
    "    \n",
    "    return nums[left]\n",
    "\n",
    "# Example usage:\n",
    "nums = [4, 5, 6, 7, 0, 1, 2]\n",
    "print(find_min(nums))  # Output: 0\n",
    "\n",
    "nums = [11, 13, 15, 17]\n",
    "print(find_min(nums))  # Output: 11\n"
   ]
  },
  {
   "cell_type": "markdown",
   "id": "2b138a68-fc99-4b05-b879-9455a8c3a9da",
   "metadata": {},
   "source": [
    "Problem 16: Search for a target value in a rotated sorted array.                                                          Input: nums = [4, 5, 6, 7, 0, 1, 2], target = 0\n",
    "Output: 4"
   ]
  },
  {
   "cell_type": "code",
   "execution_count": 70,
   "id": "864b8588-3cff-487e-9951-31c2d1bf70c0",
   "metadata": {},
   "outputs": [
    {
     "name": "stdout",
     "output_type": "stream",
     "text": [
      "4\n",
      "-1\n"
     ]
    }
   ],
   "source": [
    "def search(nums, target):\n",
    "    left, right = 0, len(nums) - 1\n",
    "    \n",
    "    while left <= right:\n",
    "        mid = (left + right) // 2\n",
    "        \n",
    "        if nums[mid] == target:\n",
    "            return mid\n",
    "        \n",
    "        # Check if the left half is sorted\n",
    "        if nums[left] <= nums[mid]:\n",
    "            if nums[left] <= target < nums[mid]:\n",
    "                right = mid - 1  # Target is in the left half\n",
    "            else:\n",
    "                left = mid + 1  # Target is in the right half\n",
    "        # If the right half is sorted\n",
    "        else:\n",
    "            if nums[mid] < target <= nums[right]:\n",
    "                left = mid + 1  # Target is in the right half\n",
    "            else:\n",
    "                right = mid - 1  # Target is in the left half\n",
    "    \n",
    "    return -1  # Target not found\n",
    "\n",
    "# Example usage:\n",
    "nums = [4, 5, 6, 7, 0, 1, 2]\n",
    "target = 0\n",
    "print(search(nums, target))  # Output: 4\n",
    "\n",
    "target = 3\n",
    "print(search(nums, target))  # Output: -1\n"
   ]
  },
  {
   "cell_type": "markdown",
   "id": "e2a3640f-56e6-4fff-adb6-70049633f66f",
   "metadata": {},
   "source": [
    "Problem 17: Find the peak element in an array. A peak element is greater than its neighbors.Input: nums = [1, 2, 3, 1]\n",
    "Output: 2 (index of peak element)"
   ]
  },
  {
   "cell_type": "code",
   "execution_count": 73,
   "id": "4b5d7346-a804-4ffd-bcae-299632181cae",
   "metadata": {},
   "outputs": [
    {
     "name": "stdout",
     "output_type": "stream",
     "text": [
      "2\n"
     ]
    }
   ],
   "source": [
    "def findPeakElement(nums):\n",
    "    left, right = 0, len(nums) - 1\n",
    "    \n",
    "    while left <= right:\n",
    "        mid = (left + right) // 2\n",
    "        \n",
    "        # Check if mid is a peak element\n",
    "        if (mid == 0 or nums[mid] > nums[mid - 1]) and (mid == len(nums) - 1 or nums[mid] > nums[mid + 1]):\n",
    "            return mid\n",
    "        # If the right neighbor is greater, search in the right half\n",
    "        elif mid < len(nums) - 1 and nums[mid] < nums[mid + 1]:\n",
    "            left = mid + 1\n",
    "        # If the left neighbor is greater, search in the left half\n",
    "        else:\n",
    "            right = mid - 1\n",
    "    \n",
    "    return -1  # Should never reach here if the array has at least one peak\n",
    "\n",
    "# Example usage:\n",
    "nums = [1, 2, 3, 1]\n",
    "print(findPeakElement(nums))  # Output: 2 (index of peak element)\n"
   ]
  },
  {
   "cell_type": "markdown",
   "id": "2162cef6-f70f-4ebd-ab82-1faa87fdf13b",
   "metadata": {},
   "source": [
    "Problem 18: Given a m x n matrix where each row and column is sorted in ascending order, count the number\n",
    "of negative numbers."
   ]
  },
  {
   "cell_type": "code",
   "execution_count": 76,
   "id": "d8202275-5006-428c-84b6-87c45bec27c9",
   "metadata": {},
   "outputs": [
    {
     "name": "stdout",
     "output_type": "stream",
     "text": [
      "6\n"
     ]
    }
   ],
   "source": [
    "def count_negatives(matrix):\n",
    "    m, n = len(matrix), len(matrix[0])\n",
    "    count = 0\n",
    "    row, col = 0, n - 1\n",
    "    \n",
    "    while row < m and col >= 0:\n",
    "        if matrix[row][col] < 0:\n",
    "            # All elements below in this column are negative\n",
    "            count += (m - row)\n",
    "            col -= 1  # Move left\n",
    "        else:\n",
    "            row += 1  # Move down\n",
    "    \n",
    "    return count\n",
    "\n",
    "# Example usage:\n",
    "matrix = [\n",
    "    [1, 2, 3, 4],\n",
    "    [1, 2, 3, -1],\n",
    "    [1, 2, -3, -4],\n",
    "    [1, -2, -3, -4]\n",
    "]\n",
    "print(count_negatives(matrix))  # Output: 8\n"
   ]
  },
  {
   "cell_type": "markdown",
   "id": "1fd9d6ee-386d-464a-ab21-dafc4d38d239",
   "metadata": {},
   "source": [
    "Problem 19: Given a 2D matrix sorted in ascending order in each row, and the first integer of each row is\n",
    "greater than the last integer of the previous row, determine if a target value is present in the matrix."
   ]
  },
  {
   "cell_type": "code",
   "execution_count": 8,
   "id": "bad5e685-36c2-4f3d-b8dc-c3fd8aff74ac",
   "metadata": {},
   "outputs": [],
   "source": [
    "def search_matrix(matrix, target):\n",
    "    if not matrix or not matrix[0]:\n",
    "        return False\n",
    "    \n",
    "    rows, cols = len(matrix), len(matrix[0])\n",
    "    left, right = 0, rows * cols - 1\n",
    "\n",
    "    while left <= right:\n",
    "        mid = (left + right) // 2\n",
    "        mid_element = matrix[mid // cols][mid % cols]\n",
    "        \n",
    "        if mid_element == target:\n",
    "            return True\n",
    "        elif mid_element < target:\n",
    "            left = mid + 1\n",
    "        else:\n",
    "            right = mid - 1\n",
    "\n",
    "    return False\n",
    "\n"
   ]
  },
  {
   "cell_type": "markdown",
   "id": "fbc7fe61-319b-4e30-88fc-0b00e37eeeee",
   "metadata": {},
   "source": [
    "Problem 20: Find Median in Two Sorted Arrays\n",
    "Problem: Given two sorted arrays, find the median of the combined sorted array.                                                       Input: nums1 = [1, 3], nums2 = [2]\n",
    "Output: 2.0"
   ]
  },
  {
   "cell_type": "code",
   "execution_count": 11,
   "id": "b49db43d-5950-410c-b87d-b9690835d685",
   "metadata": {},
   "outputs": [],
   "source": [
    "def find_median_sorted_arrays(nums1, nums2):\n",
    "    if len(nums1) > len(nums2):\n",
    "        nums1, nums2 = nums2, nums1  # Ensure nums1 is the smaller array\n",
    "    \n",
    "    x, y = len(nums1), len(nums2)\n",
    "    low, high = 0, x\n",
    "\n",
    "    while low <= high:\n",
    "        partition_x = (low + high) // 2\n",
    "        partition_y = (x + y + 1) // 2 - partition_x\n",
    "\n",
    "        maxLeftX = float('-inf') if partition_x == 0 else nums1[partition_x - 1]\n",
    "        minRightX = float('inf') if partition_x == x else nums1[partition_x]\n",
    "\n",
    "        maxLeftY = float('-inf') if partition_y == 0 else nums2[partition_y - 1]\n",
    "        minRightY = float('inf') if partition_y == y else nums2[partition_y]\n",
    "\n",
    "        if maxLeftX <= minRightY and maxLeftY <= minRightX:\n",
    "            if (x + y) % 2 == 0:\n",
    "                return (max(maxLeftX, maxLeftY) + min(minRightX, minRightY)) / 2\n",
    "            else:\n",
    "                return max(maxLeftX, maxLeftY)\n",
    "        elif maxLeftX > minRightY:\n",
    "            high = partition_x - 1\n",
    "        else:\n",
    "            low = partition_x + 1\n",
    "\n",
    "    raise ValueError(\"Input arrays are not sorted!\")\n"
   ]
  },
  {
   "cell_type": "markdown",
   "id": "d7340be8-eda5-466d-9694-0be13f0666d5",
   "metadata": {},
   "source": [
    "Problem 21: Given a sorted character array and a target letter, find the smallest letter in the array that is\n",
    "greater than the target.                                                                                                                                                          Input: letters = ['c', 'f', 'j'], target = a\n",
    "Output: 'c'"
   ]
  },
  {
   "cell_type": "code",
   "execution_count": 18,
   "id": "ca7db232-1ac2-44a2-a637-e04368f58f2f",
   "metadata": {},
   "outputs": [],
   "source": [
    "def next_greatest_letter(letters, target):\n",
    "    low, high = 0, len(letters) - 1\n",
    "\n",
    "    while low <= high:\n",
    "        mid = (low + high) // 2\n",
    "        if letters[mid] > target:\n",
    "            high = mid - 1\n",
    "        else:\n",
    "            low = mid + 1\n",
    "\n",
    "    return letters[low % len(letters)]\n"
   ]
  },
  {
   "cell_type": "markdown",
   "id": "ded99772-cdee-4253-b208-06aac7ce92d0",
   "metadata": {},
   "source": [
    "Problem 22: Given an array with n objects colored red, white, or blue, sort them in-place so that objects of\n",
    "the same color are adjacent, with the colors in the order red, white, and blue.                                                                         Input: nums = [2, 0, 2, 1, 1, 0]\n",
    "Output: [0, 0, 1, 1, 2, 2]"
   ]
  },
  {
   "cell_type": "code",
   "execution_count": 21,
   "id": "2008d9fb-8651-4bc3-875a-b027ecb7ce97",
   "metadata": {},
   "outputs": [],
   "source": [
    "def sort_colors(nums):\n",
    "    low, mid, high = 0, 0, len(nums) - 1\n",
    "\n",
    "    while mid <= high:\n",
    "        if nums[mid] == 0:\n",
    "            nums[low], nums[mid] = nums[mid], nums[low]\n",
    "            low += 1\n",
    "            mid += 1\n",
    "        elif nums[mid] == 1:\n",
    "            mid += 1\n",
    "        else:  # nums[mid] == 2\n",
    "            nums[mid], nums[high] = nums[high], nums[mid]\n",
    "            high -= 1\n"
   ]
  },
  {
   "cell_type": "markdown",
   "id": "644d75e5-4570-417e-96a6-1b1d9b6b3b2b",
   "metadata": {},
   "source": [
    "Problem 23: Find the kth largest element in an unsorted array.                    \n",
    "Input: nums = [3, 2, 1, 5, 6, 4], k = 2\n",
    "Output: 5"
   ]
  },
  {
   "cell_type": "code",
   "execution_count": 27,
   "id": "0c58a6c9-5d40-438c-b801-7006a997d758",
   "metadata": {},
   "outputs": [],
   "source": [
    "import heapq\n",
    "\n",
    "def find_kth_largest(nums, k):\n",
    "    # Create a min-heap of size k\n",
    "    heap = []\n",
    "    for num in nums:\n",
    "        heapq.heappush(heap, num)\n",
    "        if len(heap) > k:\n",
    "            heapq.heappop(heap)\n",
    "    return heap[0]\n"
   ]
  },
  {
   "cell_type": "markdown",
   "id": "af580930-ca76-4229-acdf-ec129316a783",
   "metadata": {},
   "source": [
    "Problem 24: Given an unsorted array, reorder it in-place such that nums[0] <= nums[1] >= nums[2] <=\n",
    "nums[3]...                                                                                                                                                                  Input: nums = [3, 5, 2, 1, 6, 4]\n",
    "Output: [3, 5, 1, 6, 2, 4]"
   ]
  },
  {
   "cell_type": "code",
   "execution_count": 31,
   "id": "e800257f-17a3-4465-a8d4-7c502d25c63c",
   "metadata": {},
   "outputs": [],
   "source": [
    "def wiggle_sort(nums):\n",
    "    for i in range(len(nums) - 1):\n",
    "        if (i % 2 == 0 and nums[i] > nums[i + 1]) or (i % 2 == 1 and nums[i] < nums[i + 1]):\n",
    "            nums[i], nums[i + 1] = nums[i + 1], nums[i]\n"
   ]
  },
  {
   "cell_type": "markdown",
   "id": "6970e5ff-58b7-43f3-af6a-f4d8e089c368",
   "metadata": {},
   "source": [
    "Problem 25: Given an array of integers, calculate the sum of all its elements.                                                                  Input: [1, 2, 3, 4, 5]\n",
    "Output: 15"
   ]
  },
  {
   "cell_type": "code",
   "execution_count": 35,
   "id": "cacb30d6-4cd1-45d7-a817-1570a64c2385",
   "metadata": {},
   "outputs": [],
   "source": [
    "def array_sum(nums):\n",
    "    total = 0\n",
    "    for num in nums:\n",
    "        total += num\n",
    "    return total\n"
   ]
  },
  {
   "cell_type": "markdown",
   "id": "eed4607d-00f4-4965-af89-79090f697aa0",
   "metadata": {},
   "source": [
    "Problem 26: Find the maximum element in an array of integers.                                                                                                                Input: [3, 7, 2, 9, 4, 1]\n",
    "Output: 9"
   ]
  },
  {
   "cell_type": "code",
   "execution_count": 39,
   "id": "01f6e3e7-1d87-4e43-8226-984fc462c27d",
   "metadata": {},
   "outputs": [],
   "source": [
    "def find_max(nums):\n",
    "    maximum = nums[0]\n",
    "    for num in nums:\n",
    "        if num > maximum:\n",
    "            maximum = num\n",
    "    return maximum\n"
   ]
  },
  {
   "cell_type": "markdown",
   "id": "1080c343-a080-45f0-b833-a075c66e5c0c",
   "metadata": {},
   "source": [
    "Problem 27: Implement linear search to find the index of a target element in an array.                        \n",
    "Input: [5, 3, 8, 2, 7, 4], target = 8\n",
    "Output: 2"
   ]
  },
  {
   "cell_type": "code",
   "execution_count": 49,
   "id": "8c5ff448-a312-47df-8581-905111ea7970",
   "metadata": {},
   "outputs": [],
   "source": [
    "def linear_search(nums, target):\n",
    "    for i in range(len(nums)):\n",
    "        if nums[i] == target:\n",
    "            return i\n",
    "    return -1\n"
   ]
  },
  {
   "cell_type": "markdown",
   "id": "6ab000b4-d687-4b40-9017-070f4d61a4fe",
   "metadata": {},
   "source": [
    "Problem 28 Calculate the factorial of a given number.                                                                                      Input: 5\n",
    "Output: 120 (as 5! = 5 * 4 * 3 * 2 * 1 = 120)"
   ]
  },
  {
   "cell_type": "code",
   "execution_count": 52,
   "id": "80717683-7366-40dc-8d49-cba71da0a328",
   "metadata": {},
   "outputs": [],
   "source": [
    "def factorial(n):\n",
    "    result = 1\n",
    "    for i in range(1, n + 1):\n",
    "        result *= i\n",
    "    return result\n"
   ]
  },
  {
   "cell_type": "markdown",
   "id": "f38422e9-e8f3-43c5-9d23-efded0cb4404",
   "metadata": {},
   "source": [
    "Problem 29: Check if a given number is a prime number.                                                                                           Input: 7\n",
    "Output: True"
   ]
  },
  {
   "cell_type": "code",
   "execution_count": 56,
   "id": "5fbf17bb-b3ad-4e6e-8034-04e436a7847f",
   "metadata": {},
   "outputs": [],
   "source": [
    "import math\n",
    "\n",
    "def is_prime(n):\n",
    "    if n <= 1:\n",
    "        return False\n",
    "    if n <= 3:\n",
    "        return True\n",
    "    if n % 2 == 0 or n % 3 == 0:\n",
    "        return False\n",
    "    i = 5\n",
    "    while i * i <= n:\n",
    "        if n % i == 0 or n % (i + 2) == 0:\n",
    "            return False\n",
    "        i += 6\n",
    "    return True\n"
   ]
  },
  {
   "cell_type": "markdown",
   "id": "19f959e1-750e-4534-8ed5-890519aec77b",
   "metadata": {},
   "source": [
    "Problem 30: Generate the Fibonacci series up to a given number n.                                                                     Input: 8\n",
    "Output: [0, 1, 1, 2, 3, 5, 8, 13]"
   ]
  },
  {
   "cell_type": "code",
   "execution_count": 64,
   "id": "912db7ff-6ef2-47d9-b330-7a6fc65bd1d6",
   "metadata": {},
   "outputs": [],
   "source": [
    "def fibonacci_series(n):\n",
    "    fib = [0, 1]\n",
    "    while True:\n",
    "        next_num = fib[-1] + fib[-2]\n",
    "        if next_num > n:\n",
    "            break\n",
    "        fib.append(next_num)\n",
    "    return fib\n"
   ]
  },
  {
   "cell_type": "markdown",
   "id": "41638fff-5473-4301-9435-b645e843aeff",
   "metadata": {},
   "source": [
    " Problem 31: Calculate the power of a number using recursion.                                                                                                  Input: base = 3, exponent = 4\n",
    "Output: 81 (as 3^4 = 3 * 3 * 3 * 3 = 81)"
   ]
  },
  {
   "cell_type": "markdown",
   "id": "72528fee-a5fc-469f-a564-65148366cd4d",
   "metadata": {},
   "source": [
    "Problem 32: Reverse a given string.                                                                                                                     Input: \"hello\"\n",
    "Output: \"olleh\""
   ]
  },
  {
   "cell_type": "code",
   "execution_count": 69,
   "id": "e7ef2e30-9e0b-4acb-85c3-884a30267be2",
   "metadata": {},
   "outputs": [],
   "source": [
    "def reverse_string(s):\n",
    "    reversed_s = \"\"\n",
    "    for char in s:\n",
    "        reversed_s = char + reversed_s  # Add each character to the front\n",
    "    return reversed_s\n"
   ]
  },
  {
   "cell_type": "code",
   "execution_count": null,
   "id": "67076352-5e5f-4af7-99cd-b3bbb8a92c19",
   "metadata": {},
   "outputs": [],
   "source": []
  }
 ],
 "metadata": {
  "kernelspec": {
   "display_name": "Python 3 (ipykernel)",
   "language": "python",
   "name": "python3"
  },
  "language_info": {
   "codemirror_mode": {
    "name": "ipython",
    "version": 3
   },
   "file_extension": ".py",
   "mimetype": "text/x-python",
   "name": "python",
   "nbconvert_exporter": "python",
   "pygments_lexer": "ipython3",
   "version": "3.11.4"
  }
 },
 "nbformat": 4,
 "nbformat_minor": 5
}
