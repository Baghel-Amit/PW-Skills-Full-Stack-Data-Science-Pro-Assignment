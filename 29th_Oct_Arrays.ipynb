{
 "cells": [
  {
   "cell_type": "markdown",
   "id": "877136fe-31f2-4033-96b3-cb4fb5bf27b8",
   "metadata": {},
   "source": [
    "                                                                      Arrays"
   ]
  },
  {
   "cell_type": "markdown",
   "id": "a1b3cfcc-3fd8-4d81-a700-5115a11aab40",
   "metadata": {},
   "source": [
    "Q1. Given an array, check if it contains any duplicates or not.\n",
    "arr = [1, 2, 4, 2, 5, 9]\n",
    "Output = True"
   ]
  },
  {
   "cell_type": "code",
   "execution_count": 14,
   "id": "81e248df-2421-4de9-a448-2f56406f65a1",
   "metadata": {},
   "outputs": [
    {
     "name": "stdout",
     "output_type": "stream",
     "text": [
      "True\n"
     ]
    }
   ],
   "source": [
    "def contains_duplicates(arr):\n",
    "    return len(arr) != len(set(arr))\n",
    " \n",
    "arr = [1, 2, 4, 2, 5, 9]\n",
    "output = contains_duplicates(arr)\n",
    "print(output)  \n"
   ]
  },
  {
   "cell_type": "markdown",
   "id": "6085579a-2881-46a0-8eb2-80ee505d7c5c",
   "metadata": {},
   "source": [
    "Q2. Given an array and an integer k, rotate the array to the right by k steps.\n",
    "arr = [1, 2, 3, 4, 5, 6, 7] k = 3\n",
    "Output = [5, 6, 7, 1, 2, 3, 4]"
   ]
  },
  {
   "cell_type": "code",
   "execution_count": 22,
   "id": "fbcabd56-81f4-49d6-b44f-3efaf90cdc69",
   "metadata": {},
   "outputs": [
    {
     "name": "stdout",
     "output_type": "stream",
     "text": [
      "[5, 6, 7, 1, 2, 3, 4]\n"
     ]
    }
   ],
   "source": [
    "def rotate_array(arr, k):\n",
    "    k %= len(arr)   \n",
    "    return arr[-k:] + arr[:-k]\n",
    " \n",
    "arr = [1, 2, 3, 4, 5, 6, 7]\n",
    "k = 3\n",
    "output = rotate_array(arr, k)\n",
    "print(output)  \n"
   ]
  },
  {
   "cell_type": "markdown",
   "id": "22c55f54-14c2-4ee5-8966-2abbabf8e560",
   "metadata": {},
   "source": [
    "Q3. Reverse the given array in-place, means without using any extra data structure.\n",
    "arr = [2, 4, 5, 7, 9, 12]\n",
    "Output = [12, 9, 7, 5, 4, 2]"
   ]
  },
  {
   "cell_type": "code",
   "execution_count": 25,
   "id": "4fafd2e4-d814-46f7-a449-e9eb8a9bdcb8",
   "metadata": {},
   "outputs": [
    {
     "name": "stdout",
     "output_type": "stream",
     "text": [
      "[12, 9, 7, 5, 4, 2]\n"
     ]
    }
   ],
   "source": [
    "def reverse_array(arr):\n",
    "    left, right = 0, len(arr) - 1\n",
    "    while left < right:\n",
    "        arr[left], arr[right] = arr[right], arr[left]  \n",
    "        left += 1\n",
    "        right -= 1\n",
    " \n",
    "arr = [2, 4, 5, 7, 9, 12]\n",
    "reverse_array(arr)\n",
    "print(arr)   \n"
   ]
  },
  {
   "cell_type": "markdown",
   "id": "24d59b28-70cf-4d1f-8405-37a00d00aaba",
   "metadata": {},
   "source": [
    "Q4. Given an array of integers, find the maximum element in an array\n",
    "arr = [10, 5, 20, 8, 15]\n",
    "Output = 20"
   ]
  },
  {
   "cell_type": "code",
   "execution_count": 28,
   "id": "ca18b618-b6ba-44b5-a26f-c5d3f626a50f",
   "metadata": {},
   "outputs": [
    {
     "name": "stdout",
     "output_type": "stream",
     "text": [
      "20\n"
     ]
    }
   ],
   "source": [
    "def find_maximum(arr):\n",
    "    return max(arr)\n",
    " \n",
    "arr = [10, 5, 20, 8, 15]\n",
    "output = find_maximum(arr)\n",
    "print(output)  \n"
   ]
  },
  {
   "cell_type": "markdown",
   "id": "c58c5010-1651-482b-9910-32f242d30648",
   "metadata": {},
   "source": [
    "Q5. Given a sorted array, remove the duplicate element without using any extra data structure.\n",
    "arr = [1, 1, 2, 2, 2, 3, 3, 4, 4, 4, 5, 5]\n",
    "Output = [1, 2, 3, 4, 5]"
   ]
  },
  {
   "cell_type": "code",
   "execution_count": 33,
   "id": "68a8600b-ef57-41d8-aa62-8f6bf91a882d",
   "metadata": {},
   "outputs": [
    {
     "name": "stdout",
     "output_type": "stream",
     "text": [
      "[1, 2, 3, 4, 5]\n"
     ]
    }
   ],
   "source": [
    "def remove_duplicates(arr):\n",
    "    if not arr:  \n",
    "        return 0\n",
    "\n",
    "    write_index = 0 \n",
    "    for read_index in range(1, len(arr)):\n",
    "        if arr[read_index] != arr[write_index]:\n",
    "            write_index += 1\n",
    "            arr[write_index] = arr[read_index]\n",
    "\n",
    "    return arr[:write_index + 1]\n",
    " \n",
    "arr = [1, 1, 2, 2, 2, 3, 3, 4, 4, 4, 5, 5]\n",
    "output = remove_duplicates(arr)\n",
    "print(output)   "
   ]
  },
  {
   "cell_type": "code",
   "execution_count": null,
   "id": "8f458a38-f3e5-45dc-b62f-20ef2925a7e8",
   "metadata": {},
   "outputs": [],
   "source": []
  }
 ],
 "metadata": {
  "kernelspec": {
   "display_name": "Python 3 (ipykernel)",
   "language": "python",
   "name": "python3"
  },
  "language_info": {
   "codemirror_mode": {
    "name": "ipython",
    "version": 3
   },
   "file_extension": ".py",
   "mimetype": "text/x-python",
   "name": "python",
   "nbconvert_exporter": "python",
   "pygments_lexer": "ipython3",
   "version": "3.11.4"
  }
 },
 "nbformat": 4,
 "nbformat_minor": 5
}
